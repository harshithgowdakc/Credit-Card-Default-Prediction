{
  "cells": [
    {
      "cell_type": "markdown",
      "metadata": {
        "id": "view-in-github",
        "colab_type": "text"
      },
      "source": [
        "<a href=\"https://colab.research.google.com/github/harshithgowdakc/Credit-Card-Default-Prediction/blob/main/Credit_Card_Default_Prediction.ipynb\" target=\"_parent\"><img src=\"https://colab.research.google.com/assets/colab-badge.svg\" alt=\"Open In Colab\"/></a>"
      ]
    },
    {
      "cell_type": "markdown",
      "source": [
        "# **Project Title : Credit Card Default Prediction**"
      ],
      "metadata": {
        "id": "RY6Cd0kRUBGA"
      }
    },
    {
      "cell_type": "markdown",
      "source": [
        "## **Problem Description**\n",
        "\n",
        "**This project is aimed at predicting the case of customers default payments in Taiwan. From the perspective of risk management, the result of predictive accuracy of the estimated probability of default will be more valuable than the binary result of classification - credible or not credible clients. We can use the K-S chart to evaluate which customers will default on their credit card payments**"
      ],
      "metadata": {
        "id": "I_nzSVovUmNn"
      }
    },
    {
      "cell_type": "markdown",
      "source": [
        "## **Data Description**\n",
        "\n",
        "### **Attribute Information:**\n",
        "\n",
        "**This research employed a binary variable, default payment (Yes = 1, No = 0), as the response variable. This study reviewed the literature and used the following 23 variables as explanatory variables:**\n",
        "*   **X1: Amount of the given credit (NT dollar): it includes both the individual consumer credit and his/her family (supplementary) credit.**\n",
        "*   **X2: Gender (1 = male; 2 = female).**\n",
        "*   **X3: Education (1 = graduate school; 2 = university; 3 = high school; 4 = others)**\n",
        "*   **X4: Marital status (1 = married; 2 = single; 3 = others).**\n",
        "*   **X5: Age (year).**\n",
        "*   **X6 - X11: History of past payment.** **We tracked the past monthly payment records (from April to September, 2005) as follows: X6 = the repayment status in September, 2005;** **X7 = the repayment status in August, 2005; . . .;X11 = the repayment status in April, 2005.** **The measurement scale for the repayment status is: -1 = pay duly; 1 = payment delay for one month;** **2 = payment delay for two months; . . .;** **8 = payment delay for eight months; 9 = payment delay for nine months and above.**\n",
        "*   **X12-X17: Amount of bill statement (NT dollar). X12 = amount of bill statement in September, 2005; X13 = amount of bill statement in August, 2005; . . .; X17 = amount of bill statement in April, 2005.**\n",
        "*   **X18-X23: Amount of previous payment (NT dollar). X18 = amount paid in September, 2005; X19 = amount paid in August, 2005; . . .;X23 = amount paid in April, 2005.**\n",
        "\n"
      ],
      "metadata": {
        "id": "R2aGLqKhU08W"
      }
    },
    {
      "cell_type": "markdown",
      "source": [
        "# **Business Objective:**\n",
        "\n",
        "\n",
        "*   **Objective of our project is to predict which customer might default in upcoming months. Before going any further let's have a quick look on defination of what actually meant by Credit Card Default.**\n",
        "\n",
        "*   **We are all aware what is credit card. It is type of payment card in which charges are made against a line of credit instead of the account holder's cash deposits. When someone uses a credit card to make a purchase, that person's account accrues a balance that must be paid off each month.**\n",
        "\n",
        "*   **Credit card default happens when you have become severely delinquent on your credit card payments.Missing credit card payments once or twice does not count as a default. A payment default occurs when you fail to pay the Minimum Amount Due on the credit card for a few consecutive months.**\n",
        "\n",
        "*   **So now we know what a credit card is. Now let's see one of problems faced by companies who provide credit cards. Yes it is the people who do not clear off the credit card debt aka credit card defaulters.**\n",
        "\n",
        "\n",
        "*   **The research aims at developing a mechanism to predict the credit card default beforehand and to identify the potential customer base that can be offered various credit instruments so as to invite minimum default.**\n",
        "\n"
      ],
      "metadata": {
        "id": "7bWAavENWtmm"
      }
    },
    {
      "cell_type": "markdown",
      "source": [
        "# **Loading Dataset and Importing Modules**"
      ],
      "metadata": {
        "id": "QW8HpCB4YDnV"
      }
    },
    {
      "cell_type": "code",
      "source": [
        "# Importing all libraries\n",
        "import pandas as pd\n",
        "import numpy as np\n",
        "import matplotlib.pyplot as plt\n",
        "import seaborn as sns\n",
        "%matplotlib inline\n",
        "\n",
        "import warnings\n",
        "warnings.filterwarnings('ignore')"
      ],
      "metadata": {
        "id": "v2Xo79zIPNjk"
      },
      "execution_count": null,
      "outputs": []
    },
    {
      "cell_type": "code",
      "source": [
        "!pip install --upgrade scikit-learn"
      ],
      "metadata": {
        "id": "6Y7lb92-v1x8"
      },
      "execution_count": null,
      "outputs": []
    },
    {
      "cell_type": "code",
      "source": [
        "from sklearn.preprocessing import StandardScaler\n",
        "from sklearn.model_selection import train_test_split\n",
        "from sklearn.linear_model import LogisticRegression\n",
        "from sklearn.model_selection import GridSearchCV\n",
        "\n",
        "from sklearn.metrics import accuracy_score, recall_score, precision_score, f1_score, roc_auc_score, confusion_matrix, roc_curve, auc\n",
        "\n",
        "from sklearn.svm import SVC"
      ],
      "metadata": {
        "id": "ls93glU_mKig"
      },
      "execution_count": null,
      "outputs": []
    },
    {
      "cell_type": "code",
      "execution_count": null,
      "metadata": {
        "id": "vbXKi6nmJ_wZ"
      },
      "outputs": [],
      "source": [
        "#let's mount the google drive for import the dtaset\n",
        "from google.colab import drive\n",
        "drive.mount(\"/content.drive/\")"
      ]
    },
    {
      "cell_type": "code",
      "source": [
        "#load the Credit-Card-Default-Prediction data set from drive\n",
        "df = pd.read_excel('/content.drive/MyDrive/Almabetter/Unsupervised/Copy of default of credit card clients.xls')"
      ],
      "metadata": {
        "id": "hnxXxcKiPObC"
      },
      "execution_count": null,
      "outputs": []
    },
    {
      "cell_type": "markdown",
      "source": [
        "# **Understand More About The Data**"
      ],
      "metadata": {
        "id": "nO7ypSyfY49V"
      }
    },
    {
      "cell_type": "markdown",
      "source": [
        "## **summary of data**"
      ],
      "metadata": {
        "id": "Wnfo9DuZY-e1"
      }
    },
    {
      "cell_type": "code",
      "source": [
        "# Viewing the data of top 5 rows to take a glimps of the data\n",
        "df.head()"
      ],
      "metadata": {
        "id": "fQtF_vOjZh1T"
      },
      "execution_count": null,
      "outputs": []
    },
    {
      "cell_type": "code",
      "source": [
        "# remove the first row of column names\n",
        "df.columns = df.iloc[0]\n",
        "\n",
        "# remove the first row from the DataFrame\n",
        "df = df[1:]\n",
        "\n",
        "# reset the index of the DataFrame\n",
        "df = df.reset_index(drop=True)"
      ],
      "metadata": {
        "id": "GRdm2qPZZU96"
      },
      "execution_count": null,
      "outputs": []
    },
    {
      "cell_type": "code",
      "source": [
        "# Viewing the data of top 5 rows to take a glimps of the data\n",
        "df.head()"
      ],
      "metadata": {
        "id": "Wzf3IIHbPOmA"
      },
      "execution_count": null,
      "outputs": []
    },
    {
      "cell_type": "code",
      "source": [
        "# View the data of bottom 5 rows to take a glimps of the data\n",
        "df.tail()"
      ],
      "metadata": {
        "id": "CLl2lSK9POyi"
      },
      "execution_count": null,
      "outputs": []
    },
    {
      "cell_type": "code",
      "source": [
        "#Getting the shape of dataset with rows and columns\n",
        "print(df.shape)"
      ],
      "metadata": {
        "id": "cz-xo8SQPO-O"
      },
      "execution_count": null,
      "outputs": []
    },
    {
      "cell_type": "code",
      "source": [
        "#Getting all the columns\n",
        "print(\"Features of the dataset:\")\n",
        "df.columns"
      ],
      "metadata": {
        "id": "fwTwKJL9PPIs"
      },
      "execution_count": null,
      "outputs": []
    },
    {
      "cell_type": "code",
      "source": [
        "#check details about the data set\n",
        "df.info()"
      ],
      "metadata": {
        "id": "YHnNED1XPPUG"
      },
      "execution_count": null,
      "outputs": []
    },
    {
      "cell_type": "code",
      "source": [
        "#print the unique value\n",
        "df.nunique()"
      ],
      "metadata": {
        "id": "CWFI7NRwPP3t"
      },
      "execution_count": null,
      "outputs": []
    },
    {
      "cell_type": "code",
      "source": [
        "#Looking for the description of the dataset to get insights of the data\n",
        "df.describe(include = 'all')"
      ],
      "metadata": {
        "id": "23tJjo4hPQbk"
      },
      "execution_count": null,
      "outputs": []
    },
    {
      "cell_type": "markdown",
      "source": [
        "\n",
        "*   **This Dataset contains 30000 lines and 25 columns.**\n",
        "\n",
        "*   **default payment next month is our target variable we need to focus on this**"
      ],
      "metadata": {
        "id": "2yOVmF0fbpkg"
      }
    },
    {
      "cell_type": "markdown",
      "source": [
        "## **Features description**\n",
        "\n",
        "### **Breakdown of Our Features:**\n",
        "**We have records of 30000 customers. Below are the description of all features we have.**\n",
        "\n",
        "*   **ID: ID of each client**\n",
        "*   **LIMIT_BAL: Amount of given credit in NT dollars (includes individual and family/supplementary credit)**\n",
        "*   **SEX: Gender (1 = male, 2 = female)**\n",
        "*   **EDUCATION: (1 = graduate school, 2 = university, 3 = high school, 0,4,5,6 = others)**\n",
        "*   **MARRIAGE: Marital status (0 = others, 1 = married, 2 = single, 3 = others)**\n",
        "*   **AGE: Age in years**\n",
        "\n",
        "***Scale for PAY_0 to PAY_6 :***\n",
        "\n",
        "**(-2 = No consumption, -1 = paid in full, 0 = use of revolving credit (paid minimum only), 1 = payment delay for one month, 2 = payment delay for two months, ... 8 = payment delay for eight months, 9 = payment delay for nine months and above)**\n",
        "\n",
        "*   **PAY_0: Repayment status in September, 2005 (scale same as above)**\n",
        "*   **PAY_2: Repayment status in August, 2005 (scale same as above)**\n",
        "*   **PAY_3: Repayment status in July, 2005 (scale same as above)**\n",
        "*   **PAY_4: Repayment status in June, 2005 (scale same as above)**\n",
        "*   **PAY_5: Repayment status in May, 2005 (scale same as above)**\n",
        "*   **PAY_6: Repayment status in April, 2005 (scale same as above)**\n",
        "\n",
        "\n",
        "*   **BILL_AMT1: Amount of bill statement in September, 2005 (NT dollar)**\n",
        "*   **BILL_AMT2: Amount of bill statement in August, 2005 (NT dollar)**\n",
        "*   **BILL_AMT3: Amount of bill statement in July, 2005 (NT dollar)**\n",
        "*   **BILL_AMT4: Amount of bill statement in June, 2005 (NT dollar)**\n",
        "*   **BILL_AMT5: Amount of bill statement in May, 2005 (NT dollar)**\n",
        "*   **BILL_AMT6: Amount of bill statement in April, 2005 (NT dollar)**\n",
        "\n",
        "\n",
        "*   **PAY_AMT1: Amount of previous payment in September, 2005 (NT dollar)**\n",
        "*   **PAY_AMT2: Amount of previous payment in August, 2005 (NT dollar)**\n",
        "*   **PAY_AMT3: Amount of previous payment in July, 2005 (NT dollar)**\n",
        "*   **PAY_AMT4: Amount of previous payment in June, 2005 (NT dollar)**\n",
        "*   **PAY_AMT5: Amount of previous payment in May, 2005 (NT dollar)**\n",
        "*   **PAY_AMT6: Amount of previous payment in April, 2005 (NT dollar)**\n",
        "\n",
        "\n",
        "*   **default.payment.next.month: Default payment (1=yes, 0=no)**\n",
        "\n",
        "**NOTE:-**\n",
        "\n",
        "**What do 0 and -2 mean in PAY_X columns?**\n",
        "\n",
        "**From dataset documentation:**\n",
        "\n",
        "**PAY_0: Repayment status in September, 2005 (-1=pay duly, 1=payment delay for one month, 2=payment delay for two months,** … **8=payment delay for eight months, 9=payment delay for nine months and above).** **Notice code 0 and 2 are in the PAY_X columns but are not included in the data description. Also by doing the value_counts, it shows 0 is the most frequent observation.**\n",
        "\n",
        "**-2: No consumption;**\n",
        "**-1: Paid in full;**\n",
        "**0: The use of revolving credit, meaning the payment wasn't due, which makes sense that most customers were using the revolving credit.**\n",
        "\n",
        "\n",
        "**In our dataset we got customer credit card transaction history for past 6 month , on basis of which we have to predict if cutomer will default or not.**"
      ],
      "metadata": {
        "id": "LZGEXUFub7yL"
      }
    },
    {
      "cell_type": "markdown",
      "source": [
        "# **Preprocessing the dataset**\n"
      ],
      "metadata": {
        "id": "I5KWUQVpjvho"
      }
    },
    {
      "cell_type": "markdown",
      "source": [
        "**Why do we need to handle missing values?**\n",
        "\n",
        "*   **The real-world data often has a lot of missing values. The cause of missing values can be data corruption or failure to record data. The handling of missing data is very important during the preprocessing of the dataset as many machine learning algorithms do not support missing values.that's why we check missing values first**"
      ],
      "metadata": {
        "id": "ypomv41Aj1Bm"
      }
    },
    {
      "cell_type": "markdown",
      "source": [
        "### **Missing values**"
      ],
      "metadata": {
        "id": "jQi5GIzsq_P1"
      }
    },
    {
      "cell_type": "code",
      "source": [
        "#check for count of missing values in each column.\n",
        "df.isna().sum()\n",
        "df.isnull().sum()"
      ],
      "metadata": {
        "id": "3eIkAjRpblk-"
      },
      "execution_count": null,
      "outputs": []
    },
    {
      "cell_type": "markdown",
      "source": [
        "**As we can see above there are no missing value presents.**"
      ],
      "metadata": {
        "id": "l7LxZoy6rehO"
      }
    },
    {
      "cell_type": "markdown",
      "source": [
        "### **Duplicate values:**\n",
        "\n",
        "**Why is it important to remove duplicate records from my data?**\n",
        "\n",
        "\n",
        "*   **\"Duplication\" just means that you have repeated data in your dataset. This could be due to things like data entry errors or data collection methods. by removing duplication in our data set, Time and money are saved by not sending identical communications multiple times to the same person.**"
      ],
      "metadata": {
        "id": "XxdaZuX0rmUQ"
      }
    },
    {
      "cell_type": "code",
      "source": [
        "# Checking Duplicate Values\n",
        "value=len(df[df.duplicated()])\n",
        "print(\"The number of duplicate values in the data set is = \",value)"
      ],
      "metadata": {
        "id": "EkAdMRx6r3I9"
      },
      "execution_count": null,
      "outputs": []
    },
    {
      "cell_type": "markdown",
      "source": [
        "**In the above data after count the missing and duplicate value we came to know that there are no missing and duplicate value present.**"
      ],
      "metadata": {
        "id": "CS-IO_2er96U"
      }
    },
    {
      "cell_type": "markdown",
      "source": [
        "# **Exploratory Data Analysis**"
      ],
      "metadata": {
        "id": "spKygmQ2sIpR"
      }
    },
    {
      "cell_type": "markdown",
      "source": [
        "**Why do we perform EDA?**\n",
        "\n",
        "**An EDA is a thorough examination meant to uncover the underlying structure of a data set and is important for a company because it exposes trends, patterns, and relationships that are not readily apparent.**"
      ],
      "metadata": {
        "id": "KB_NUz4FsRnw"
      }
    },
    {
      "cell_type": "markdown",
      "source": [
        "## **Univariate Analysis**\n",
        "\n",
        "**Why do you do univariate analysis?**\n",
        "\n",
        "*   **The key objective of Univariate analysis is to simply describe the data to find patterns within the data.**"
      ],
      "metadata": {
        "id": "laa_xbPqsaCv"
      }
    },
    {
      "cell_type": "markdown",
      "source": [
        "### **Analysis of Dependent Variable:**\n",
        "\n",
        "**What is a dependent variable in data analysis?**\n",
        "\n",
        "***we analyse our dependent variable,A dependent variable is a variable whose value will change depending on the value of another variable.***\n",
        "\n",
        "**What does 'default.payment.next.month' mean?**\n",
        "\n",
        "**Is it a predictor or actual data that was collected in the next month - Oct. 2005? According to the reply from the dataset contributor,it seems this is the actual data collected in the next month. \"Y: client's behavior; Y=0 then not default, Y=1 then default\". This information could be used to test the accuracy of the model that will be built.**"
      ],
      "metadata": {
        "id": "DX2yYLDvs4wo"
      }
    },
    {
      "cell_type": "code",
      "source": [
        "#renaming for better convinience\n",
        "df.rename(columns={'default payment next month' : 'default_payment_next_month'}, inplace=True)"
      ],
      "metadata": {
        "id": "aEjX9GJnPQlH"
      },
      "execution_count": null,
      "outputs": []
    },
    {
      "cell_type": "code",
      "source": [
        "# counts the dependent variable data set\n",
        "df['default_payment_next_month'].value_counts()"
      ],
      "metadata": {
        "id": "AmSuaeJUsEIn"
      },
      "execution_count": null,
      "outputs": []
    },
    {
      "cell_type": "code",
      "source": [
        "# Get the proportion of customers who had default payment in the next month  \n",
        "# About 22% customers had default payment next month\n",
        "\n",
        "df['default_payment_next_month'].value_counts(normalize=True)"
      ],
      "metadata": {
        "id": "EjTCa9IpsESa"
      },
      "execution_count": null,
      "outputs": []
    },
    {
      "cell_type": "code",
      "source": [
        "#plotting the count plot to vizualize the data distribution \n",
        "# set the color palette to the same colors as in the pie chart\n",
        "colors = ['#FFA500', '#1E90FF']\n",
        "sns.set_palette(sns.color_palette(colors))\n",
        "\n",
        "#plot the count plot to check the data distribution\n",
        "plt.figure(figsize=(10,5))\n",
        "sns.countplot(x='default_payment_next_month', data=df)\n",
        "plt.show()"
      ],
      "metadata": {
        "id": "2Yv7cpFysEbk"
      },
      "execution_count": null,
      "outputs": []
    },
    {
      "cell_type": "code",
      "source": [
        "plt.style.use('ggplot')\n",
        "plt.rcParams['figure.figsize']=(12,8)\n",
        "inter=df['default_payment_next_month'].value_counts()\n",
        "colors = ['#FFA500', '#1E90FF'] # specify the colors you want to use\n",
        "plt.pie(inter,labels=['NO','YES'],autopct='%0.1f%%',colors=colors,radius=1)\n",
        "plt.show()"
      ],
      "metadata": {
        "id": "9dJSu4icSMMH"
      },
      "execution_count": null,
      "outputs": []
    },
    {
      "cell_type": "markdown",
      "source": [
        "**From the above data analysis we can say that**\n",
        "\n",
        "**0 - Not Default**\n",
        "**1 - Default**\n",
        "\n",
        "**Defaulters are less than the Non Defaulters in the given dataset.**\n",
        "\n",
        "**As we can see from above graph that both classes are not in proportion and we have imbalanced dataset. we need to do normalize the data in next step.**"
      ],
      "metadata": {
        "id": "iXSqd44tS3qS"
      }
    },
    {
      "cell_type": "markdown",
      "source": [
        "## **Analysis of Independent Variable:**"
      ],
      "metadata": {
        "id": "SnjOC9QZUAwK"
      }
    },
    {
      "cell_type": "markdown",
      "source": [
        "### **Categorical Features**\n",
        "\n",
        "**We have few categorical features in our dataset that are**\n",
        "\n",
        "\n",
        "\n",
        "*   **sex**\n",
        "*   **education**\n",
        "*   **marraige**\n",
        "*   **age**\n",
        "\n",
        "\n",
        "**Categorical variables are qualitative data in which the values are assigned to a set of distinct groups or categories. These groups may consist of alphabetic (e.g., male, female) or numeric labels (e.g., male = 0, female = 1) that do not contain mathematical information beyond the frequency counts related to group membership.**\n",
        "\n",
        "**Let'Check how they are related with out target class.**"
      ],
      "metadata": {
        "id": "NDYzoJJsUMJt"
      }
    },
    {
      "cell_type": "markdown",
      "source": [
        "## **SEX**\n",
        "\n",
        "*  **1 - Male**\n",
        "*  **2 - Female**"
      ],
      "metadata": {
        "id": "uZg3fsA6U8at"
      }
    },
    {
      "cell_type": "code",
      "source": [
        "# counts the SEX variable data set\n",
        "df['SEX'].value_counts()"
      ],
      "metadata": {
        "id": "JOI75qIrU-gY"
      },
      "execution_count": null,
      "outputs": []
    },
    {
      "cell_type": "code",
      "source": [
        "#plotting the count plot to vizualize the data distribution\n",
        "plt.figure(figsize=(10,5))\n",
        "sns.countplot(x = 'SEX', data = df)"
      ],
      "metadata": {
        "id": "dpOarZA0VRbd"
      },
      "execution_count": null,
      "outputs": []
    },
    {
      "cell_type": "markdown",
      "source": [
        "**Number of Male credit holder is less than Female.**"
      ],
      "metadata": {
        "id": "D0zkmmeNVkn7"
      }
    },
    {
      "cell_type": "markdown",
      "source": [
        "## **Education**\n",
        "\n",
        "**1 = graduate school; 2 = university; 3 = high school; 0 = others**"
      ],
      "metadata": {
        "id": "wF2Ja_tiVvc3"
      }
    },
    {
      "cell_type": "code",
      "source": [
        "# counts the education  data set variable data set\n",
        "df['EDUCATION'].value_counts()"
      ],
      "metadata": {
        "id": "W_vnkaH7U5oX"
      },
      "execution_count": null,
      "outputs": []
    },
    {
      "cell_type": "markdown",
      "source": [
        "**EDUCATION' column: notice 5 and 6 are both recorded as 'unknown' and there is 0 which isn't explained in the dataset description. Since the amounts are so small, let's combine 0,4,5,6 to 0 which means\"other'.**"
      ],
      "metadata": {
        "id": "uL-23V3rV7J7"
      }
    },
    {
      "cell_type": "code",
      "source": [
        "# Change values 4, 5, 6 to 0 and define 0 as 'others'\n",
        "# 1=graduate school, 2=university, 3=high school, 0=others\n",
        "df['EDUCATION'] = df['EDUCATION'].replace([4, 5, 6], 0)\n",
        "df[\"EDUCATION\"].value_counts()"
      ],
      "metadata": {
        "id": "UqDTnlhlV9MP"
      },
      "execution_count": null,
      "outputs": []
    },
    {
      "cell_type": "code",
      "source": [
        "#plotting the count plot to vizualize the data distribution\n",
        "plt.style.use('ggplot')\n",
        "colors = ['#FFA500', '#1E90FF', '#008000',  '#FFD700', '#008000', '#0000FF'] \n",
        "plt.figure(figsize=(10,5))\n",
        "sns.countplot(x = 'EDUCATION', data = df, palette=colors)"
      ],
      "metadata": {
        "id": "OwpuBcBFgRlm"
      },
      "execution_count": null,
      "outputs": []
    },
    {
      "cell_type": "markdown",
      "source": [
        "**From the above data analysis we can say that**\n",
        "\n",
        "\n",
        "**More number of credit holders are university students followed by Graduates and then High school students.**"
      ],
      "metadata": {
        "id": "MRTviws2hDx_"
      }
    },
    {
      "cell_type": "markdown",
      "source": [
        "## **Marriage**\n",
        "\n",
        "**1 = married; 2 = single; 3 = others**"
      ],
      "metadata": {
        "id": "6DUvPKhhqRcA"
      }
    },
    {
      "cell_type": "code",
      "source": [
        "# From dataset description: MARRIAGE: Marital status (1=married, 2=single, 3=others), but there is also 0\n",
        "\n",
        "df[\"MARRIAGE\"].unique()"
      ],
      "metadata": {
        "id": "4KOrUS3USs3M"
      },
      "execution_count": null,
      "outputs": []
    },
    {
      "cell_type": "code",
      "source": [
        "# counts the education  data set\n",
        "df['MARRIAGE'].value_counts()"
      ],
      "metadata": {
        "id": "33m6XLiCqxLC"
      },
      "execution_count": null,
      "outputs": []
    },
    {
      "cell_type": "code",
      "source": [
        "# How many customers had \"MARRIAGE\" status as 0?\n",
        "df[\"MARRIAGE\"].value_counts(normalize=True)"
      ],
      "metadata": {
        "id": "Z1Z2lK_mq1Td"
      },
      "execution_count": null,
      "outputs": []
    },
    {
      "cell_type": "markdown",
      "source": [
        "**'MARRIAGE' column: what does 0 mean in 'MARRIAGE'?     Since there are only 0.18% (or 54) observations of 0, we will combine 0 and 3 in one value as 'others'.**"
      ],
      "metadata": {
        "id": "FVZOV22Mry8P"
      }
    },
    {
      "cell_type": "code",
      "source": [
        "# Combine 0 and 3 by changing the value 0 into others\n",
        "df['MARRIAGE'] = df['MARRIAGE'].replace([0], 3)"
      ],
      "metadata": {
        "id": "xADP62vKqzdx"
      },
      "execution_count": null,
      "outputs": []
    },
    {
      "cell_type": "code",
      "source": [
        "#plotting the count plot to vizualize the data distribution\n",
        "plt.style.use('ggplot')\n",
        "colors = ['#FFD700', '#008000', '#0000FF']\n",
        "\n",
        "plt.figure(figsize=(10,5))\n",
        "sns.countplot(x = 'MARRIAGE', data = df, palette=colors)"
      ],
      "metadata": {
        "id": "H1IcDJtDsEtM"
      },
      "execution_count": null,
      "outputs": []
    },
    {
      "cell_type": "markdown",
      "source": [
        "**From the above data analysis we can say that**\n",
        "\n",
        "**1 - married**\n",
        "\n",
        "**2 - single**\n",
        "\n",
        "**3 - others**\n",
        "\n",
        "**More number of credit cards holder are Single.**"
      ],
      "metadata": {
        "id": "PsaA4h14s1JA"
      }
    },
    {
      "cell_type": "markdown",
      "source": [
        "## **AGE**\n",
        "\n",
        "**Plotting graph of number of ages of all people with credit card irrespective of gender.**"
      ],
      "metadata": {
        "id": "7ywLx3X4tIbA"
      }
    },
    {
      "cell_type": "code",
      "source": [
        "# counts the education  data set\n",
        "df['AGE'].value_counts()"
      ],
      "metadata": {
        "id": "eILDkQM7sE1V"
      },
      "execution_count": null,
      "outputs": []
    },
    {
      "cell_type": "code",
      "source": [
        "#check the mean of the age group rescpective to the default_payment_next_month\n",
        "df.groupby('default_payment_next_month')['AGE'].mean()"
      ],
      "metadata": {
        "id": "FqJQa71OPNcI"
      },
      "execution_count": null,
      "outputs": []
    },
    {
      "cell_type": "code",
      "source": [
        "df = df.astype('int')"
      ],
      "metadata": {
        "id": "1RY0lC4htbFY"
      },
      "execution_count": null,
      "outputs": []
    },
    {
      "cell_type": "code",
      "source": [
        "#plotting the count plot to vizualize the data distribution\n",
        "plt.figure(figsize=(15,7))\n",
        "plt.style.use('ggplot')\n",
        "sns.countplot(x = 'AGE', data = df)\n",
        "plt.show()"
      ],
      "metadata": {
        "id": "NLGe8251tbOl"
      },
      "execution_count": null,
      "outputs": []
    },
    {
      "cell_type": "markdown",
      "source": [
        "**From the above data analysis we can say that**\n",
        "\n",
        "\n",
        "*   **We can see more number of credit cards holder age are between 26-30 years old.**\n",
        "*   **Age above 60 years old rarely uses the credit card.**"
      ],
      "metadata": {
        "id": "VGqJmSJUvMJx"
      }
    },
    {
      "cell_type": "code",
      "source": [
        "#plotting the box plot to vizualize the data distribution\n",
        "plt.style.use('ggplot')\n",
        "plt.figure(figsize=(10,10))\n",
        "ax = sns.boxplot(x=\"default_payment_next_month\", y=\"AGE\", data=df, palette=['red', 'blue'])"
      ],
      "metadata": {
        "id": "i-fnweBPtbW1"
      },
      "execution_count": null,
      "outputs": []
    },
    {
      "cell_type": "markdown",
      "source": [
        "## **Numerical features**\n",
        "\n",
        "**What is Numerical Data**\n",
        "\n",
        "*   **Numerical data is a data type expressed in numbers, rather than natural language description. Sometimes called quantitative data, numerical data is always collected in number form. Numerical data differentiates itself from other number form data types with its ability to carry out arithmetic operations with these numbers.**"
      ],
      "metadata": {
        "id": "DvMym7BkwD6E"
      }
    },
    {
      "cell_type": "markdown",
      "source": [
        "## **Limit Balance**"
      ],
      "metadata": {
        "id": "NowmHhnTwVNG"
      }
    },
    {
      "cell_type": "code",
      "source": [
        "# describe  the limit balance  data set\n",
        "df['LIMIT_BAL'].describe()"
      ],
      "metadata": {
        "id": "5Je3adL4vrNM"
      },
      "execution_count": null,
      "outputs": []
    },
    {
      "cell_type": "markdown",
      "source": [
        "**Distribution of LIMIT_BAL.**"
      ],
      "metadata": {
        "id": "PpDIQqcbwsho"
      }
    },
    {
      "cell_type": "code",
      "source": [
        "#plotting the dist plot to vizualize the data distribution\n",
        "plt.figure(figsize=(15,10))\n",
        "sns.distplot(df['LIMIT_BAL'], kde=True, color='blue')\n",
        "plt.show()"
      ],
      "metadata": {
        "id": "PHF-AGhitbf3"
      },
      "execution_count": null,
      "outputs": []
    },
    {
      "cell_type": "markdown",
      "source": [
        "**From the above data analysis we can say that**\n",
        "\n",
        "\n",
        "*   **Maximum amount of given credit in NT dollars is 50,000 followed by 30,000 and 20,000.**"
      ],
      "metadata": {
        "id": "AyAoCh__ywAK"
      }
    },
    {
      "cell_type": "code",
      "source": [
        "#plotting the bar plot to vizualize the data distribution\n",
        "sns.barplot(x='default_payment_next_month', y='LIMIT_BAL', data=df, palette=['red','blue'])"
      ],
      "metadata": {
        "id": "c8CIaLD9tbn8"
      },
      "execution_count": null,
      "outputs": []
    },
    {
      "cell_type": "code",
      "source": [
        "#plotting the box plot to vizualize the data distribution\n",
        "plt.figure(figsize=(10,10))\n",
        "ax = sns.boxplot(x=\"default_payment_next_month\", y=\"LIMIT_BAL\", data=df, palette=['red','blue'])"
      ],
      "metadata": {
        "id": "Og0Xgvcu1JD8"
      },
      "execution_count": null,
      "outputs": []
    },
    {
      "cell_type": "markdown",
      "source": [
        "## **Renaming columns**"
      ],
      "metadata": {
        "id": "alz1sRnF1a5E"
      }
    },
    {
      "cell_type": "code",
      "source": [
        "#renaming columns \n",
        "\n",
        "df.rename(columns={'PAY_0':'PAY_SEPT','PAY_2':'PAY_AUG','PAY_3':'PAY_JUL','PAY_4':'PAY_JUN','PAY_5':'PAY_MAY','PAY_6':'PAY_APR'},inplace=True)\n",
        "df.rename(columns={'BILL_AMT1':'BILL_AMT_SEPT','BILL_AMT2':'BILL_AMT_AUG','BILL_AMT3':'BILL_AMT_JUL','BILL_AMT4':'BILL_AMT_JUN','BILL_AMT5':'BILL_AMT_MAY','BILL_AMT6':'BILL_AMT_APR'}, inplace = True)\n",
        "df.rename(columns={'PAY_AMT1':'PAY_AMT_SEPT','PAY_AMT2':'PAY_AMT_AUG','PAY_AMT3':'PAY_AMT_JUL','PAY_AMT4':'PAY_AMT_JUN','PAY_AMT5':'PAY_AMT_MAY','PAY_AMT6':'PAY_AMT_APR'},inplace=True)\n"
      ],
      "metadata": {
        "id": "CYuLF4P9tbvQ"
      },
      "execution_count": null,
      "outputs": []
    },
    {
      "cell_type": "code",
      "source": [
        "#check details about the data set\n",
        "df.info()"
      ],
      "metadata": {
        "id": "Y-iaDfmZtb2q"
      },
      "execution_count": null,
      "outputs": []
    },
    {
      "cell_type": "code",
      "source": [
        "df.head()"
      ],
      "metadata": {
        "id": "sNWpRg4m233V"
      },
      "execution_count": null,
      "outputs": []
    },
    {
      "cell_type": "markdown",
      "source": [
        "## **Total Bill Amount**"
      ],
      "metadata": {
        "id": "uBkYyYeLc5Vr"
      }
    },
    {
      "cell_type": "markdown",
      "source": [
        "**What does SNS Pairplot do?**\n",
        "\n",
        "\n",
        "\n",
        "*   **pairplot. Plot pairwise relationships in a dataset. By default, this function will create a grid of Axes such that each numeric variable in data will by shared across the y-axes across a single row and the x-axes across a single column.**"
      ],
      "metadata": {
        "id": "qQljO5p_dJK2"
      }
    },
    {
      "cell_type": "code",
      "source": [
        "#assign the bill amount variable to a single variable \n",
        "total_bill_amnt_df = df[['BILL_AMT_SEPT',\t'BILL_AMT_AUG',\t'BILL_AMT_JUL',\t'BILL_AMT_JUN',\t'BILL_AMT_MAY',\t'BILL_AMT_APR']]"
      ],
      "metadata": {
        "id": "UcYsLkO5dXcf"
      },
      "execution_count": null,
      "outputs": []
    },
    {
      "cell_type": "code",
      "source": [
        "#plotting the pair plot for bill amount \n",
        "sns.pairplot(data = total_bill_amnt_df)"
      ],
      "metadata": {
        "id": "06eqIj0Atb9t"
      },
      "execution_count": null,
      "outputs": []
    },
    {
      "cell_type": "markdown",
      "source": [
        "## **Previous payment status**"
      ],
      "metadata": {
        "id": "Sm5YTk-edvGP"
      }
    },
    {
      "cell_type": "code",
      "source": [
        "#plotting the count plot for Previous payment status\n",
        "pre_payment = ['PAY_SEPT',\t'PAY_AUG',\t'PAY_JUL',\t'PAY_JUN',\t'PAY_MAY',\t'PAY_APR']\n",
        "for col in pre_payment:\n",
        "  plt.figure(figsize=(10,5))\n",
        "  sns.countplot(x = col, hue = 'default_payment_next_month', data = df)"
      ],
      "metadata": {
        "id": "9odAuk_MtcGC"
      },
      "execution_count": null,
      "outputs": []
    },
    {
      "cell_type": "markdown",
      "source": [
        "## **Paid Amount**"
      ],
      "metadata": {
        "id": "RFvKcdvReWZr"
      }
    },
    {
      "cell_type": "code",
      "source": [
        "#assign the Paid Amount variable to a single variable \n",
        "pay_amnt_df = df[['PAY_AMT_SEPT',\t'PAY_AMT_AUG',\t'PAY_AMT_JUL',\t'PAY_AMT_JUN',\t'PAY_AMT_MAY',\t'PAY_AMT_APR', 'default_payment_next_month']]"
      ],
      "metadata": {
        "id": "bojQjsqltDW1"
      },
      "execution_count": null,
      "outputs": []
    },
    {
      "cell_type": "code",
      "source": [
        "#plotting the pair plot for paid amount\n",
        "sns.pairplot(data = pay_amnt_df, hue='default_payment_next_month')"
      ],
      "metadata": {
        "id": "4ykgCwYstDl9"
      },
      "execution_count": null,
      "outputs": []
    },
    {
      "cell_type": "code",
      "source": [
        "df.shape"
      ],
      "metadata": {
        "id": "EfO4sQmXe67W"
      },
      "execution_count": null,
      "outputs": []
    },
    {
      "cell_type": "markdown",
      "source": [
        "# **Bivariate Analysis**\n",
        "\n",
        "\n",
        "\n",
        "*   **Bivariate analysis is one of the simplest forms of quantitative analysis. It involves the analysis of two variables, for the purpose of determining the empirical relationship between them. Bivariate analysis can be helpful in testing simple hypotheses of association**"
      ],
      "metadata": {
        "id": "kOgEV7d1fIAh"
      }
    },
    {
      "cell_type": "markdown",
      "source": [
        "## **Sex and default_payment_next_month**"
      ],
      "metadata": {
        "id": "wiy0G-jTfghm"
      }
    },
    {
      "cell_type": "code",
      "source": [
        "x = 'SEX'\n",
        "y = 'default_payment_next_month'\n",
        "\n",
        "df_percent = (df.groupby(x)[y]\n",
        "              .value_counts(normalize=True)\n",
        "              .mul(100)\n",
        "              .rename('percent')\n",
        "              .reset_index())\n",
        "\n",
        "sns.catplot(data=df_percent, x=x, y='percent', hue=y, kind='bar', palette=['#191825', '#865DFF'])"
      ],
      "metadata": {
        "id": "YSKMaQIzmUl7"
      },
      "execution_count": null,
      "outputs": []
    },
    {
      "cell_type": "markdown",
      "source": [
        "**It is evident from the above graph that the number of defaulter have high proportion of males.**"
      ],
      "metadata": {
        "id": "MtIDUywLgE9m"
      }
    },
    {
      "cell_type": "markdown",
      "source": [
        "## **Education and default_payment_next_month**"
      ],
      "metadata": {
        "id": "l1V2qBy6i-l1"
      }
    },
    {
      "cell_type": "code",
      "source": [
        "#plotting the cat plot to vizualize the data distribution related to the default_payment_next_month\n",
        "x = 'EDUCATION' \n",
        "y = 'default_payment_next_month'\n",
        "df_percent = (df.groupby(x)[y].value_counts(normalize = True).mul(100).rename('percent').reset_index())\n",
        "sns.catplot(data=df_percent, x=x, y='percent', hue=y, kind='bar', palette=['#191825', '#865DFF'])"
      ],
      "metadata": {
        "id": "ksO9MX7FfHq2"
      },
      "execution_count": null,
      "outputs": []
    },
    {
      "cell_type": "markdown",
      "source": [
        "\n",
        "*   **From the above plot it is clear that those people who are other students have higher default payment wrt graduates and university people.**"
      ],
      "metadata": {
        "id": "KaGf_aTil_SG"
      }
    },
    {
      "cell_type": "markdown",
      "source": [
        "## **Marriage and default_payment_next_month**"
      ],
      "metadata": {
        "id": "mDkdPAbEl6uX"
      }
    },
    {
      "cell_type": "code",
      "source": [
        "#plotting the cat plot to vizualize the data distribution related to the default_payment_next_month\n",
        "x='MARRIAGE'\n",
        "y='default_payment_next_month'\n",
        "\n",
        "df_percent = df.groupby(x)[y].value_counts(normalize= True).mul(100).rename('percent').reset_index()\n",
        "sns.catplot(data=df_percent, x=x, y='percent', hue=y, kind='bar', palette=['#191825', '#865DFF'])"
      ],
      "metadata": {
        "id": "yR-kOpSJjC_1"
      },
      "execution_count": null,
      "outputs": []
    },
    {
      "cell_type": "markdown",
      "source": [
        "**High defaulter rate when it comes to others**"
      ],
      "metadata": {
        "id": "FOPcms3uwSo0"
      }
    },
    {
      "cell_type": "markdown",
      "source": [
        "## **Age and default_payment_next_month**"
      ],
      "metadata": {
        "id": "fJtvIQoL0d8N"
      }
    },
    {
      "cell_type": "code",
      "source": [
        "#plotting the bar plot to vizualize the data distribution related to the default_payment_next_month\n",
        "plt.figure(figsize=(19,7))\n",
        "sns.barplot(x = 'AGE', y = 'default_payment_next_month', data = df)\n",
        "\n",
        "plt.show()"
      ],
      "metadata": {
        "id": "SSbq0dnH0clR"
      },
      "execution_count": null,
      "outputs": []
    },
    {
      "cell_type": "markdown",
      "source": [
        "**Slightly higher defaulter rate in 60's.**"
      ],
      "metadata": {
        "id": "prThV71s02R3"
      }
    },
    {
      "cell_type": "markdown",
      "source": [
        "## **Checking of Correlation between variables**\n",
        "\n",
        "*   **we check correletion betweeen variables using Correlation heatmap, it is graphical representation of correlation matrix representing correlation between different variables**"
      ],
      "metadata": {
        "id": "tCKJ1Ez806BC"
      }
    },
    {
      "cell_type": "code",
      "source": [
        "#plotting the heatmap \n",
        "plt.figure(figsize=(20,15))\n",
        "sns.heatmap(df.corr(),annot=True,cmap=\"coolwarm\")"
      ],
      "metadata": {
        "id": "V361aRuc0wyR"
      },
      "execution_count": null,
      "outputs": []
    },
    {
      "cell_type": "markdown",
      "source": [
        "*   **It seems from the above graph is there are some negatively correlated feature like age but we cannot blindly remove this feature because it could be important feature for prediction.**\n",
        "*   **ID is unimportant and it has no role in prediction so we will remove it.**"
      ],
      "metadata": {
        "id": "XpD4S69C1Sea"
      }
    },
    {
      "cell_type": "markdown",
      "source": [
        "### **SMOTE**"
      ],
      "metadata": {
        "id": "ZcRVCj9lDH2u"
      }
    },
    {
      "cell_type": "markdown",
      "source": [
        "**In our data set we have Imbalanced Data Distribution in our dependent variable, it generally happens when observations in one of the class are much higher i.e not defaulter or lower than the other classes i.e defaulter.**\n",
        "\n",
        "\n",
        "*   **In our data set we have Imbalanced Data Distribution in our dependent variable, it generally happens when observations in one of the class are much higher i.e not defaulter or lower than the other classes i.e defaulter.**\n",
        "\n",
        "*   **As Machine Learning algorithms tend to increase accuracy by reducing the error, they do not consider the class distribution.**\n",
        "\n",
        "*   **Standard ML techniques such as Decision Tree and Logistic Regression have a bias towards the majority class, and they tend to ignore the minority class. They tend only to predict the majority class, hence, having major misclassification of the minority class in comparison with the majority class.**\n",
        "\n",
        "\n",
        "*   **In more technical words, if we have imbalanced data distribution in our dataset then our model becomes more prone to the case when the minority class has a negligible or very lesser recall.**\n",
        "\n",
        "\n",
        "**SMOTE**\n",
        "\n",
        "***SMOTE (Synthetic Minority Oversampling Technique) – Oversampling is one of the most commonly used oversampling methods to solve the imbalance problem.\n",
        "It aims to balance class distribution by randomly increasing minority class examples by replicating them.***"
      ],
      "metadata": {
        "id": "XlqfP7ZWDi8B"
      }
    },
    {
      "cell_type": "code",
      "source": [
        "#import the module \n",
        "from imblearn.over_sampling import SMOTE\n",
        "\n",
        "smote = SMOTE()\n",
        "\n",
        "# fit predictor and target variable\n",
        "x_smote, y_smote = smote.fit_resample(df.iloc[:,0:-1], df['default_payment_next_month'])\n",
        "\n",
        "print('Original dataset shape', len(df))\n",
        "print('Resampled dataset shape', len(y_smote))"
      ],
      "metadata": {
        "id": "u-EfJ1W7CGO0"
      },
      "execution_count": null,
      "outputs": []
    },
    {
      "cell_type": "code",
      "source": [
        "x_smote.shape"
      ],
      "metadata": {
        "id": "rzhZLTVRFX4s"
      },
      "execution_count": null,
      "outputs": []
    },
    {
      "cell_type": "code",
      "source": [
        "columns = list(df.columns)"
      ],
      "metadata": {
        "id": "7gKEZ9-ZvZk5"
      },
      "execution_count": null,
      "outputs": []
    },
    {
      "cell_type": "code",
      "source": [
        "columns.pop()"
      ],
      "metadata": {
        "id": "tvEQk148FpTr"
      },
      "execution_count": null,
      "outputs": []
    },
    {
      "cell_type": "code",
      "source": [
        "balance_df = pd.DataFrame(x_smote, columns=columns)"
      ],
      "metadata": {
        "id": "dfuHxBOPxgzd"
      },
      "execution_count": null,
      "outputs": []
    },
    {
      "cell_type": "code",
      "source": [
        "balance_df.shape"
      ],
      "metadata": {
        "id": "RoFHE4sBjDLQ"
      },
      "execution_count": null,
      "outputs": []
    },
    {
      "cell_type": "code",
      "source": [
        "balance_df"
      ],
      "metadata": {
        "id": "A6vtOAD0L3iq"
      },
      "execution_count": null,
      "outputs": []
    },
    {
      "cell_type": "code",
      "source": [
        "balance_df['default_payment_next_month'] = y_smote"
      ],
      "metadata": {
        "id": "YiGVTwgwjDVr"
      },
      "execution_count": null,
      "outputs": []
    },
    {
      "cell_type": "code",
      "source": [
        "balance_df.shape"
      ],
      "metadata": {
        "id": "OWE1zojXIKek"
      },
      "execution_count": null,
      "outputs": []
    },
    {
      "cell_type": "code",
      "source": [
        "#plot the count plot after smote\n",
        "sns.countplot(x = balance_df['default_payment_next_month'])"
      ],
      "metadata": {
        "id": "MC7r1gxejDfk"
      },
      "execution_count": null,
      "outputs": []
    },
    {
      "cell_type": "markdown",
      "source": [
        "# **Feature Engineering**"
      ],
      "metadata": {
        "id": "S-hguvVwM2UX"
      }
    },
    {
      "cell_type": "code",
      "source": [
        "#save a copy file in other variable\n",
        "credit_df_copy = balance_df.copy()"
      ],
      "metadata": {
        "id": "sL6hENKPMt43"
      },
      "execution_count": null,
      "outputs": []
    },
    {
      "cell_type": "code",
      "source": [
        "# assign the the sum of payment value in one \n",
        "credit_df_copy['total_Payement_Value'] = credit_df_copy['PAY_SEPT'] + credit_df_copy['PAY_AUG'] + credit_df_copy['PAY_JUL'] + credit_df_copy['PAY_JUN'] + credit_df_copy['PAY_MAY'] + credit_df_copy['PAY_APR']"
      ],
      "metadata": {
        "id": "MwJKmCspjDzr"
      },
      "execution_count": null,
      "outputs": []
    },
    {
      "cell_type": "code",
      "source": [
        "#check the correlation by using mean\n",
        "credit_df_copy.groupby('default_payment_next_month')['total_Payement_Value'].mean()"
      ],
      "metadata": {
        "id": "wNGHGx06OK-r"
      },
      "execution_count": null,
      "outputs": []
    },
    {
      "cell_type": "code",
      "source": [
        "#plotting the box plot \n",
        "plt.figure(figsize=(10,10))\n",
        "sns.boxplot(data = credit_df_copy, x = 'default_payment_next_month', y = 'total_Payement_Value', palette=['blue','Orange'])"
      ],
      "metadata": {
        "id": "cX3119pvOS1j"
      },
      "execution_count": null,
      "outputs": []
    },
    {
      "cell_type": "code",
      "source": [
        "pd.options.display.max_columns = None"
      ],
      "metadata": {
        "id": "z4BPw73dQr2J"
      },
      "execution_count": null,
      "outputs": []
    },
    {
      "cell_type": "code",
      "source": [
        "credit_df_copy.head(2)"
      ],
      "metadata": {
        "id": "T_yWTN-OQimu"
      },
      "execution_count": null,
      "outputs": []
    },
    {
      "cell_type": "code",
      "source": [
        "#create a new column due by calculating the sum of total bill ammount substract it from the total amont paid\n",
        "credit_df_copy['Dues'] = (credit_df_copy['BILL_AMT_APR']+credit_df_copy['BILL_AMT_MAY']+credit_df_copy['BILL_AMT_JUN']+credit_df_copy['BILL_AMT_JUL']+credit_df_copy['BILL_AMT_SEPT'])-(credit_df_copy['PAY_AMT_APR']+credit_df_copy['PAY_AMT_MAY']+credit_df_copy['PAY_AMT_JUN']+credit_df_copy['PAY_AMT_JUL']+credit_df_copy['PAY_AMT_AUG']+credit_df_copy['PAY_AMT_SEPT'])"
      ],
      "metadata": {
        "id": "59jbl1v4cHz7"
      },
      "execution_count": null,
      "outputs": []
    },
    {
      "cell_type": "code",
      "source": [
        "#check the mean to calculate the correletion \n",
        "credit_df_copy.groupby('default_payment_next_month')['Dues'].mean()"
      ],
      "metadata": {
        "id": "WKw3takIPy-D"
      },
      "execution_count": null,
      "outputs": []
    },
    {
      "cell_type": "code",
      "source": [
        "credit_df_copy.replace({'SEX': {1 : 'MALE', 2 : 'FEMALE'},\n",
        "                        'EDUCATION' : {1 : 'graduate school', 2 : 'university', 3 : 'high school', 0 : 'others'},\n",
        "                        'MARRIAGE' : {1 : 'married', 2 : 'single', 3 : 'others'}}, inplace = True)"
      ],
      "metadata": {
        "id": "4_zgv5G3cbiQ"
      },
      "execution_count": null,
      "outputs": []
    },
    {
      "cell_type": "code",
      "source": [
        "#final data set\n",
        "credit_df_copy.head()"
      ],
      "metadata": {
        "id": "_fNSQ6Hbclob"
      },
      "execution_count": null,
      "outputs": []
    },
    {
      "cell_type": "markdown",
      "source": [
        "## **One Hot Encoding**\n",
        "\n",
        "*   **One hot encoding is a process by which categorical variables are converted into a form that could be provided to ML algorithms to do a better job in prediction.**\n",
        "*   **here we perform one hot encoding on 'EDUCATION','MARRIAGE','PAY_SEPT', 'PAY_AUG', 'PAY_JUL', 'PAY_JUN', 'PAY_MAY', 'PAY_APR'**\n",
        "\n"
      ],
      "metadata": {
        "id": "Cf1ngX6paByq"
      }
    },
    {
      "cell_type": "code",
      "source": [
        "#get dummies \n",
        "credit_df_copy = pd.get_dummies(credit_df_copy,columns=['EDUCATION','MARRIAGE'])"
      ],
      "metadata": {
        "id": "GVQgD56ccwke"
      },
      "execution_count": null,
      "outputs": []
    },
    {
      "cell_type": "code",
      "source": [
        "#get dummies\n",
        "credit_df_copy = pd.get_dummies(credit_df_copy, columns = ['PAY_SEPT',\t'PAY_AUG',\t'PAY_JUL',\t'PAY_JUN',\t'PAY_MAY',\t'PAY_APR'], drop_first = True )"
      ],
      "metadata": {
        "id": "8CLEsSD4hOM8"
      },
      "execution_count": null,
      "outputs": []
    },
    {
      "cell_type": "code",
      "source": [
        "# LABEL ENCODING FOR SEX\n",
        "encoders_nums = {\"SEX\":{\"FEMALE\": 0, \"MALE\": 1}}\n",
        "credit_df_copy = credit_df_copy.replace(encoders_nums)"
      ],
      "metadata": {
        "id": "SdsWOjJShOZ3"
      },
      "execution_count": null,
      "outputs": []
    },
    {
      "cell_type": "code",
      "source": [
        "credit_df_copy.drop('ID',axis = 1, inplace = True)"
      ],
      "metadata": {
        "id": "JI75E1UDhOmO"
      },
      "execution_count": null,
      "outputs": []
    },
    {
      "cell_type": "code",
      "source": [
        "credit_df_copy.columns"
      ],
      "metadata": {
        "id": "GhUEkuCIhpFs"
      },
      "execution_count": null,
      "outputs": []
    },
    {
      "cell_type": "code",
      "source": [
        "credit_df_copy.shape"
      ],
      "metadata": {
        "id": "pTTo5hwxieXE"
      },
      "execution_count": null,
      "outputs": []
    },
    {
      "cell_type": "code",
      "source": [
        "credit_df_copy.head()"
      ],
      "metadata": {
        "id": "wTVYaUHdihNr"
      },
      "execution_count": null,
      "outputs": []
    },
    {
      "cell_type": "markdown",
      "source": [
        "# **Modeling**\n",
        "\n",
        "## **Performance Metrics**\n",
        "\n",
        "\n",
        "\n",
        "\n",
        "*   **Precision is a good metric to use when the costs of false positive(FP) is high.**\n",
        "*   **Precision = TP / (TP + FP)**\n",
        "*   **Recall is a good metric to use when the cost associated with false negative(FN) is high.**\n",
        "*   **Recall = TP / (TP + FN)**\n",
        "\n",
        "*   **F1-score is a weighted average of precision and recall. Thus, it considers FP and FN. This metric is very useful when we have uneven class distribution, as it seeks a balance between precision and recall.**\n",
        "\n",
        "\n",
        "*   **F1-score = 2** * **(precision** *  **recall) / (precision + recall)**\n",
        "\n",
        "**Note**\n",
        "\n",
        "**In this classification problem there is a high cost for the bank when a default credit card is predicted as non-default, since no actions can be taken. Thus, we will give recall more importance.**\n",
        "\n"
      ],
      "metadata": {
        "id": "XGd9j4rwkxqz"
      }
    },
    {
      "cell_type": "markdown",
      "source": [
        "## **Implementing Logistic Regression**\n",
        "\n",
        "Logistic Regression is one of the simplest algorithms which estimates the relationship between one dependent binary variable and independent variables, computing the probability of occurrence of an event. The regulation parameter C controls the trade-off between increasing complexity (overfitting) and keeping the model simple (underfitting). For large values of C, the power of regulation is reduced and the model increases its complexity, thus overfitting the data."
      ],
      "metadata": {
        "id": "h4SgkHkowrUc"
      }
    },
    {
      "cell_type": "code",
      "source": [
        "#make a copy\n",
        "credit_df_logistic = credit_df_copy.copy()"
      ],
      "metadata": {
        "id": "4zcCYLksmDOv"
      },
      "execution_count": null,
      "outputs": []
    },
    {
      "cell_type": "code",
      "source": [
        "#show the first 5 column\n",
        "credit_df_logistic.head()"
      ],
      "metadata": {
        "id": "OJZVbeOzyLPP"
      },
      "execution_count": null,
      "outputs": []
    },
    {
      "cell_type": "markdown",
      "source": [
        "### **train test split data set**"
      ],
      "metadata": {
        "id": "Xhh0jvRXyb7F"
      }
    },
    {
      "cell_type": "code",
      "source": [
        "#define the X and y value\n",
        "X = credit_df_logistic.drop(['default_payment_next_month','total_Payement_Value','Dues'],axis=1)\n",
        "y = credit_df_logistic['default_payment_next_month']"
      ],
      "metadata": {
        "id": "jT3G5A2VyZsE"
      },
      "execution_count": null,
      "outputs": []
    },
    {
      "cell_type": "code",
      "source": [
        "columns = X.columns"
      ],
      "metadata": {
        "id": "SD-Ew62dlgiK"
      },
      "execution_count": null,
      "outputs": []
    },
    {
      "cell_type": "code",
      "source": [
        "#standardise the x value by using satandardscaler\n",
        "scaler = StandardScaler()\n",
        "X = scaler.fit_transform(X)"
      ],
      "metadata": {
        "id": "8c4ViGruljxs"
      },
      "execution_count": null,
      "outputs": []
    },
    {
      "cell_type": "code",
      "source": [
        "#split the data set\n",
        "X_train, X_test, y_train, y_test = train_test_split(X, y, test_size=0.25, random_state=4, stratify = y)"
      ],
      "metadata": {
        "id": "ch0IRd2pmNBb"
      },
      "execution_count": null,
      "outputs": []
    },
    {
      "cell_type": "markdown",
      "source": [
        "**What is GridSearchCV?**\n",
        "*   **GridSearchCV is a library function that is a member of sklearn's model_selection package. It helps to loop through predefined hyperparameters and fit our estimator (model) on your training set. So, in the end, we can select the best parameters from the listed hyperparameters.**"
      ],
      "metadata": {
        "id": "yLlUdlV8ns4q"
      }
    },
    {
      "cell_type": "code",
      "source": [
        "#set the parmeter\n",
        "param_grid = {'penalty':['l1','l2'], 'C' : [0.001, 0.01, 0.1, 1, 10, 100, 1000] }"
      ],
      "metadata": {
        "id": "aNSWqbzlljuU"
      },
      "execution_count": null,
      "outputs": []
    },
    {
      "cell_type": "code",
      "source": [
        "#fit the parameter \n",
        "grid_lr_clf = GridSearchCV(LogisticRegression(), param_grid, scoring = 'accuracy', n_jobs = -1, verbose = 3, cv = 3)\n",
        "grid_lr_clf.fit(X_train, y_train)"
      ],
      "metadata": {
        "id": "1lazvqrzljrw"
      },
      "execution_count": null,
      "outputs": []
    },
    {
      "cell_type": "code",
      "source": [
        "optimized_clf = grid_lr_clf.best_estimator_"
      ],
      "metadata": {
        "id": "0-17TWGCuBxq"
      },
      "execution_count": null,
      "outputs": []
    },
    {
      "cell_type": "code",
      "source": [
        "grid_lr_clf.best_params_"
      ],
      "metadata": {
        "id": "GJpTjoOWudKo"
      },
      "execution_count": null,
      "outputs": []
    },
    {
      "cell_type": "code",
      "source": [
        "grid_lr_clf.best_score_"
      ],
      "metadata": {
        "id": "0g6KIktfljpD"
      },
      "execution_count": null,
      "outputs": []
    },
    {
      "cell_type": "code",
      "source": [
        "# Predicted Probability\n",
        "train_preds = optimized_clf.predict_proba(X_train)[:,1]\n",
        "test_preds = optimized_clf.predict_proba(X_test)[:,1]"
      ],
      "metadata": {
        "id": "T_a_x4Ulljmb"
      },
      "execution_count": null,
      "outputs": []
    },
    {
      "cell_type": "code",
      "source": [
        "# Get the predicted classes\n",
        "train_class_preds = optimized_clf.predict(X_train)\n",
        "test_class_preds = optimized_clf.predict(X_test)"
      ],
      "metadata": {
        "id": "tmp4N1avljjb"
      },
      "execution_count": null,
      "outputs": []
    },
    {
      "cell_type": "markdown",
      "source": [
        "## **Model Evaluation**"
      ],
      "metadata": {
        "id": "OFTedBBFwlEf"
      }
    },
    {
      "cell_type": "code",
      "source": [
        "# Get the accuracy scores\n",
        "train_accuracy_lr = accuracy_score(train_class_preds,y_train)\n",
        "test_accuracy_lr = accuracy_score(test_class_preds,y_test)\n",
        "\n",
        "print(\"The accuracy on train data is \", train_accuracy_lr)\n",
        "print(\"The accuracy on test data is \", test_accuracy_lr)"
      ],
      "metadata": {
        "id": "yXCGZfMkljbP"
      },
      "execution_count": null,
      "outputs": []
    },
    {
      "cell_type": "code",
      "source": [
        "#print the accuracy,precission,recall,f1,roc_score \n",
        "test_accuracy_lr = accuracy_score(test_class_preds,y_test)\n",
        "test_precision_score_lr = precision_score(test_class_preds,y_test)\n",
        "test_recall_score_lr = recall_score(test_class_preds,y_test)\n",
        "test_f1_score_lr = f1_score(test_class_preds,y_test)\n",
        "test_roc_score_lr = roc_auc_score(test_class_preds,y_test)\n",
        "\n",
        "print(\"The accuracy on test data is \", test_accuracy_lr)\n",
        "print(\"The precision on test data is \", test_precision_score_lr)\n",
        "print(\"The recall on test data is \", test_recall_score_lr)\n",
        "print(\"The f1 on test data is \", test_f1_score_lr)\n",
        "print(\"The roc_score on test data is \", test_roc_score_lr)"
      ],
      "metadata": {
        "id": "gJ7Nv1r7ljYv"
      },
      "execution_count": null,
      "outputs": []
    },
    {
      "cell_type": "markdown",
      "source": [
        "**from the above evalution we get the results as below**\n",
        "\n",
        "\n",
        "\n",
        "\n",
        "*   **The accuracy on test data is  0.7516692347200822**\n",
        "*   **The precision on test data is  0.687382297551789**\n",
        "*   **The recall on test data is  0.7888015717092338**\n",
        "*   **The f1 on test data is  0.734607995608819**\n",
        "*   **The roc_score on test data is  0.7558995722623839**\n",
        "\n",
        "\n",
        "\n",
        "**We have implemented logistic regression and we getting f1-sore approx 73%. As we have imbalanced dataset, F1- score is better parameter. Let's go ahead with other models and see if they can yield better result.**"
      ],
      "metadata": {
        "id": "dAHKU8gfw0rZ"
      }
    },
    {
      "cell_type": "markdown",
      "source": [
        "## **Confusion Matrix**\n",
        "\n",
        "**Confusion Matrix is a performance measurement for machine learning classification problem where output can be two or more classes. It is a table with 4 different combinations of predicted and actual values.**\n"
      ],
      "metadata": {
        "id": "hXE2G__8xZgX"
      }
    },
    {
      "cell_type": "code",
      "source": [
        "# Get the confusion matrix for both train and test\n",
        "cm_lr = confusion_matrix(y_train, train_class_preds)\n",
        "print(cm_lr)"
      ],
      "metadata": {
        "id": "9mq2jmeeljWE"
      },
      "execution_count": null,
      "outputs": []
    },
    {
      "cell_type": "code",
      "source": [
        "labels = ['Not Defaulter', 'Defaulter']\n",
        "ax= plt.subplot()\n",
        "sns.heatmap(cm_lr, annot=True, ax = ax) #annot=True to annotate cells\n",
        "\n",
        "# labels, title and ticks\n",
        "ax.set_xlabel('Predicted labels')\n",
        "ax.set_ylabel('True labels')\n",
        "ax.set_title('Confusion Matrix')\n",
        "ax.xaxis.set_ticklabels(labels)\n",
        "ax.yaxis.set_ticklabels(labels)"
      ],
      "metadata": {
        "id": "jjsVUPSCxpIe"
      },
      "execution_count": null,
      "outputs": []
    },
    {
      "cell_type": "markdown",
      "source": [
        "**Features**\n",
        "\n",
        "**Feature importance refers to techniques that assign a score to input features based on how useful they are at predicting a target variable.**"
      ],
      "metadata": {
        "id": "srhYeIk15jzd"
      }
    },
    {
      "cell_type": "code",
      "source": [
        "feature_importance = pd.DataFrame({'Features':columns, 'Importance':np.abs(optimized_clf.coef_).ravel() })"
      ],
      "metadata": {
        "id": "Eri5PZl85pbh"
      },
      "execution_count": null,
      "outputs": []
    },
    {
      "cell_type": "code",
      "source": [
        "feature_importance = feature_importance.sort_values(by = 'Importance', ascending=False)[:10]"
      ],
      "metadata": {
        "id": "Y82eM28GljTa"
      },
      "execution_count": null,
      "outputs": []
    },
    {
      "cell_type": "code",
      "source": [
        "#plot the graph \n",
        "plt.bar(height=feature_importance['Importance'], x= feature_importance['Features'], color = 'blue')\n",
        "plt.xticks(rotation=80)\n",
        "plt.title(\"Feature importances via coefficients\")\n",
        "plt.show()"
      ],
      "metadata": {
        "id": "OZtlzORrljQU"
      },
      "execution_count": null,
      "outputs": []
    },
    {
      "cell_type": "markdown",
      "source": [
        "**from the above feature importance graph we can say that the most important feature that make an impact on dependt variable are PAY_MAY_1,PAY_APR_1,PAY_JUL_1,**"
      ],
      "metadata": {
        "id": "lni7V7Vf6TAz"
      }
    },
    {
      "cell_type": "markdown",
      "source": [
        "## **ROC AUC curve**\n",
        "\n",
        "**An ROC curve (receiver operating characteristic curve) is a graph showing the performance of a classification model at all classification thresholds. This curve plots two parameters:**\n",
        "\n",
        "\n",
        "\n",
        "*   **True Positive Rate**\n",
        "*   **False Positive Rate**\n",
        "\n",
        "\n",
        "**AUC stands for \"Area under the ROC Curve.\" That is, AUC measures the entire two-dimensional area underneath the entire ROC curve**"
      ],
      "metadata": {
        "id": "hAA6zjOP6q3O"
      }
    },
    {
      "cell_type": "code",
      "source": [
        "y_preds_proba_lr = optimized_clf.predict_proba(X_test)[::,1]"
      ],
      "metadata": {
        "id": "JVYzTgMD7B6K"
      },
      "execution_count": null,
      "outputs": []
    },
    {
      "cell_type": "code",
      "source": [
        "#plot the graph\n",
        "y_pred_proba = y_preds_proba_lr\n",
        "fpr, tpr, _ = roc_curve(y_test,  y_pred_proba)\n",
        "auc = roc_auc_score(y_test, y_pred_proba)\n",
        "plt.plot(fpr,tpr,label=\"data 1, auc=\"+str(auc))\n",
        "plt.legend(loc=4)\n",
        "plt.show()"
      ],
      "metadata": {
        "id": "F37SUYfh7GI3"
      },
      "execution_count": null,
      "outputs": []
    },
    {
      "cell_type": "code",
      "source": [
        "# calculate ROC curve and AUC score\n",
        "y_pred_proba = y_preds_proba_lr\n",
        "fpr, tpr, _ = roc_curve(y_test,  y_pred_proba)\n",
        "auc = roc_auc_score(y_test, y_pred_proba)\n",
        "\n",
        "# create plot\n",
        "fig, ax = plt.subplots(figsize=(8, 6))\n",
        "ax.plot(fpr, tpr, color='blue', label=\"ROC curve (AUC = {:.2f})\".format(auc))\n",
        "ax.plot([0, 1], [0, 1], color='grey', linestyle='--', label='Random Guess')\n",
        "ax.set_xlabel('False Positive Rate', fontsize=14)\n",
        "ax.set_ylabel('True Positive Rate', fontsize=14)\n",
        "ax.set_title('Receiver Operating Characteristic (ROC) Curve', fontsize=16)\n",
        "ax.legend(loc=\"lower right\", fontsize=12)\n",
        "ax.grid(True)\n",
        "\n",
        "plt.show()"
      ],
      "metadata": {
        "id": "8IeANnIYLUnM"
      },
      "execution_count": null,
      "outputs": []
    },
    {
      "cell_type": "markdown",
      "source": [
        "## **Implementing RandomForest**\n",
        "\n",
        "**A random forest classifier. A random forest is a meta estimator that fits a number of decision tree classifiers on various sub-samples of the dataset and uses averaging to improve the predictive accuracy and control over-fitting**"
      ],
      "metadata": {
        "id": "kATekPsS75j2"
      }
    },
    {
      "cell_type": "code",
      "source": [
        "#import the packages\n",
        "from sklearn.ensemble import RandomForestClassifier"
      ],
      "metadata": {
        "id": "autA_asN8GY2"
      },
      "execution_count": null,
      "outputs": []
    },
    {
      "cell_type": "code",
      "source": [
        "#define the X and y value\n",
        "X = credit_df_copy.drop(['default_payment_next_month','total_Payement_Value','Dues'],axis=1)\n",
        "y = credit_df_copy['default_payment_next_month']"
      ],
      "metadata": {
        "id": "d5HVdahw8Imh"
      },
      "execution_count": null,
      "outputs": []
    },
    {
      "cell_type": "code",
      "source": [
        "rf_clf = RandomForestClassifier()\n",
        "rf_clf.fit(X_train,y_train)"
      ],
      "metadata": {
        "id": "q0BmnesS8NK3"
      },
      "execution_count": null,
      "outputs": []
    },
    {
      "cell_type": "code",
      "source": [
        "# Get the predicted classes\n",
        "train_class_preds = rf_clf.predict(X_train)\n",
        "test_class_preds = rf_clf.predict(X_test)"
      ],
      "metadata": {
        "id": "xUrcUuQI8PaS"
      },
      "execution_count": null,
      "outputs": []
    },
    {
      "cell_type": "markdown",
      "source": [
        "### **Model Evaluation**"
      ],
      "metadata": {
        "id": "TNfh7DH38Rgs"
      }
    },
    {
      "cell_type": "code",
      "source": [
        "# Get the accuracy scores\n",
        "train_accuracy_rf = accuracy_score(train_class_preds,y_train)\n",
        "test_accuracy_rf = accuracy_score(test_class_preds,y_test)\n",
        "\n",
        "print(\"The accuracy on train data is \", train_accuracy_rf)\n",
        "print(\"The accuracy on test data is \", test_accuracy_rf)"
      ],
      "metadata": {
        "id": "gvx8dyol8VC-"
      },
      "execution_count": null,
      "outputs": []
    },
    {
      "cell_type": "code",
      "source": [
        "test_accuracy_rf = accuracy_score(test_class_preds,y_test)\n",
        "test_precision_score_rf = precision_score(test_class_preds,y_test)\n",
        "test_recall_score_rf = recall_score(test_class_preds,y_test)\n",
        "test_f1_score_rf = f1_score(test_class_preds,y_test)\n",
        "test_roc_score_rf = roc_auc_score(test_class_preds,y_test)\n",
        "\n",
        "print(\"The accuracy on test data is \", test_accuracy_rf)\n",
        "print(\"The precision on test data is \", test_precision_score_rf)\n",
        "print(\"The recall on test data is \", test_recall_score_rf)\n",
        "print(\"The f1 on test data is \", test_f1_score_rf)\n",
        "print(\"The roc_score on test data is \", test_roc_score_rf)"
      ],
      "metadata": {
        "id": "AfG1y7YB8Xug"
      },
      "execution_count": null,
      "outputs": []
    },
    {
      "cell_type": "markdown",
      "source": [
        "**from the above evalution we get the results as below**\n",
        "\n",
        "\n",
        "\n",
        "*   **The accuracy on test data is  0.8387262455059066**\n",
        "*   **The precision on test data is  0.8073959938366718**\n",
        "*   **The recall on test data is  0.8613698630136987**\n",
        "*   **The f1 on test data is  0.8335100742311771**\n",
        "*   **The roc_score on test data is  0.8400614418983428**\n",
        "\n",
        "\n",
        "**We can see from above results that we are getting around 99% train accuracy and 83% for test accuracy which depicts that model is overfitting. However our f1-score is around 82%, which is not bad.**"
      ],
      "metadata": {
        "id": "upmfFgF18Y_j"
      }
    },
    {
      "cell_type": "code",
      "source": [
        "#set the parmeter\n",
        "param_grid = {'n_estimators': [100,150,200], 'max_depth': [10,20,30]}"
      ],
      "metadata": {
        "id": "zjJL_S7D84SI"
      },
      "execution_count": null,
      "outputs": []
    },
    {
      "cell_type": "code",
      "source": [
        "#fit the parameter\n",
        "grid_rf_clf = GridSearchCV(RandomForestClassifier(), param_grid, scoring = 'accuracy', n_jobs = -1, verbose = 3, cv = 3)\n",
        "grid_rf_clf.fit(X_train, y_train)"
      ],
      "metadata": {
        "id": "9EXcL7wP865M"
      },
      "execution_count": null,
      "outputs": []
    },
    {
      "cell_type": "code",
      "source": [
        "grid_rf_clf.best_score_"
      ],
      "metadata": {
        "id": "LLWjSVFV89zK"
      },
      "execution_count": null,
      "outputs": []
    },
    {
      "cell_type": "code",
      "source": [
        "grid_rf_clf.best_params_"
      ],
      "metadata": {
        "id": "qlgHt8gP9ARj"
      },
      "execution_count": null,
      "outputs": []
    },
    {
      "cell_type": "code",
      "source": [
        "optimal_rf_clf = grid_rf_clf.best_estimator_"
      ],
      "metadata": {
        "id": "e6j0W2uu9Cgx"
      },
      "execution_count": null,
      "outputs": []
    },
    {
      "cell_type": "code",
      "source": [
        "# Get the predicted classes\n",
        "train_class_preds = optimal_rf_clf.predict(X_train)\n",
        "test_class_preds = optimal_rf_clf.predict(X_test)"
      ],
      "metadata": {
        "id": "pwkqmyz49E94"
      },
      "execution_count": null,
      "outputs": []
    },
    {
      "cell_type": "code",
      "source": [
        "# Get the accuracy scores\n",
        "train_accuracy_rf = accuracy_score(train_class_preds,y_train)\n",
        "test_accuracy_rf = accuracy_score(test_class_preds,y_test)\n",
        "\n",
        "print(\"The accuracy on train data is \", train_accuracy_rf)\n",
        "print(\"The accuracy on test data is \", test_accuracy_rf)"
      ],
      "metadata": {
        "id": "TuDmXh6G9HXc"
      },
      "execution_count": null,
      "outputs": []
    },
    {
      "cell_type": "code",
      "source": [
        "test_accuracy_rf = accuracy_score(test_class_preds,y_test)\n",
        "test_precision_score_rf = precision_score(test_class_preds,y_test)\n",
        "test_recall_score_rf = recall_score(test_class_preds,y_test)\n",
        "test_f1_score_rf = f1_score(test_class_preds,y_test)\n",
        "test_roc_score_rf = roc_auc_score(test_class_preds,y_test)\n",
        "\n",
        "print(\"The accuracy on test data is \", test_accuracy_rf)\n",
        "print(\"The precision on test data is \", test_precision_score_rf)\n",
        "print(\"The recall on test data is \", test_recall_score_rf)\n",
        "print(\"The f1 on test data is \", test_f1_score_rf)\n",
        "print(\"The roc_score on test data is \", test_roc_score_rf)"
      ],
      "metadata": {
        "id": "TPaVh2xm9J1z"
      },
      "execution_count": null,
      "outputs": []
    },
    {
      "cell_type": "markdown",
      "source": [
        "**from the above evalution we get the results as below**\n",
        "\n",
        "*   **The accuracy on test data is  0.8388118472864236**\n",
        "*   **The precision on test data is  0.8108200650573532**\n",
        "*   **The recall on test data is  0.8589046064562931**\n",
        "*   **The f1 on test data is  0.8341699691765743**\n",
        "*   **The roc_score on test data is  0.8398770762501958**\n",
        "\n",
        "**After gridsearch we getting f1-sore approx 82%. As we have imbalanced dataset, F1- score is better parameter. Let's go ahead with other models and see if they can yield better result.**"
      ],
      "metadata": {
        "id": "xjkvDleFKcSK"
      }
    },
    {
      "cell_type": "markdown",
      "source": [
        "### **Confusion Matrix**\n",
        "\n",
        "**Confusion Matrix is a performance measurement for machine learning classification problem where output can be two or more classes. It is a table with 4 different combinations of predicted and actual values.**"
      ],
      "metadata": {
        "id": "OGl_xlokK_78"
      }
    },
    {
      "cell_type": "code",
      "source": [
        "# Get the confusion matrix for both train and test\n",
        "cm_rf = confusion_matrix(y_train, train_class_preds)\n",
        "print(cm_rf)"
      ],
      "metadata": {
        "id": "Rs-nHez9LGx2"
      },
      "execution_count": null,
      "outputs": []
    },
    {
      "cell_type": "code",
      "source": [
        "labels = ['Not Defaulter', 'Defaulter']\n",
        "ax= plt.subplot()\n",
        "sns.heatmap(cm_rf, annot=True, ax = ax) #annot=True to annotate cells\n",
        "\n",
        "# labels, title and ticks\n",
        "ax.set_xlabel('Predicted labels')\n",
        "ax.set_ylabel('True labels')\n",
        "ax.set_title('Confusion Matrix')\n",
        "ax.xaxis.set_ticklabels(labels)\n",
        "ax.yaxis.set_ticklabels(labels)"
      ],
      "metadata": {
        "id": "AiYNGhSuK5UT"
      },
      "execution_count": null,
      "outputs": []
    },
    {
      "cell_type": "markdown",
      "source": [
        "### **Features**\n",
        "\n",
        "**Feature importance refers to techniques that assign a score to input features based on how useful they are at predicting a target variable.**"
      ],
      "metadata": {
        "id": "_1Ma5vGFLdNr"
      }
    },
    {
      "cell_type": "code",
      "source": [
        "len(optimal_rf_clf.feature_importances_)"
      ],
      "metadata": {
        "id": "6ogL3NuDLiZr"
      },
      "execution_count": null,
      "outputs": []
    },
    {
      "cell_type": "code",
      "source": [
        "# Feature Importance\n",
        "feature_importances_rf = pd.DataFrame(optimal_rf_clf.feature_importances_,\n",
        "                                   index = columns,\n",
        "                                    columns=['importance_rf']).sort_values('importance_rf',\n",
        "                                                                        ascending=False)[:10]\n",
        "                                    \n",
        "plt.subplots(figsize=(17,6))\n",
        "plt.title(\"Feature importances\")\n",
        "plt.bar(feature_importances_rf.index, feature_importances_rf['importance_rf'],\n",
        "        color=\"g\",  align=\"center\")\n",
        "plt.xticks(feature_importances_rf.index, rotation = 85)\n",
        "#plt.xlim([-1, X.shape[1]])\n",
        "plt.show()"
      ],
      "metadata": {
        "id": "9rGx6Go8LoZE"
      },
      "execution_count": null,
      "outputs": []
    },
    {
      "cell_type": "markdown",
      "source": [
        "**from the above feature importance graph we can say that the most important feature that make an impact on dependt variable are LIMIT_BAL,PAY_AMT_SEPT**"
      ],
      "metadata": {
        "id": "E5Hdm6gWLsux"
      }
    },
    {
      "cell_type": "markdown",
      "source": [
        "### **ROC AUC curve**\n",
        "\n",
        "**An ROC curve (receiver operating characteristic curve) is a graph showing the performance of a classification model at all classification thresholds. This curve plots two parameters:**\n",
        "\n",
        "\n",
        "*   **True Positive Rate**\n",
        "*   **False Positive Rate**\n",
        "\n",
        "\n",
        "**AUC stands for \"Area under the ROC Curve.\" That is, AUC measures the entire two-dimensional area underneath the entire ROC curve**"
      ],
      "metadata": {
        "id": "ozcYiBokLxLf"
      }
    },
    {
      "cell_type": "code",
      "source": [
        "# Get the predicted classes\n",
        "train_class_preds = optimal_rf_clf.predict(X_train)\n",
        "test_class_preds = optimal_rf_clf.predict(X_test)"
      ],
      "metadata": {
        "id": "k-j-q9xcL_mz"
      },
      "execution_count": null,
      "outputs": []
    },
    {
      "cell_type": "code",
      "source": [
        "y_preds_proba_rf = optimal_rf_clf.predict_proba(X_test)[::,1]"
      ],
      "metadata": {
        "id": "UXP4nPG3Luw6"
      },
      "execution_count": null,
      "outputs": []
    },
    {
      "cell_type": "code",
      "source": [
        "import sklearn.metrics as metrics\n",
        "y_pred_proba = y_preds_proba_rf\n",
        "fpr, tpr, _ = metrics.roc_curve(y_test,  y_pred_proba)\n",
        "auc = metrics.roc_auc_score(y_test, y_pred_proba)\n",
        "plt.plot(fpr,tpr,label=\"data 1, auc=\"+str(auc))\n",
        "plt.legend(loc=4)\n",
        "plt.show()"
      ],
      "metadata": {
        "id": "VAgwGPFDMIOK"
      },
      "execution_count": null,
      "outputs": []
    },
    {
      "cell_type": "code",
      "source": [],
      "metadata": {
        "id": "OW-XtjD4MKUR"
      },
      "execution_count": null,
      "outputs": []
    },
    {
      "cell_type": "code",
      "source": [
        "999 = 5656safd"
      ],
      "metadata": {
        "id": "W3h2DCI2jESC"
      },
      "execution_count": null,
      "outputs": []
    },
    {
      "cell_type": "code",
      "source": [],
      "metadata": {
        "id": "W-pJeCRjjEdB"
      },
      "execution_count": null,
      "outputs": []
    },
    {
      "cell_type": "code",
      "source": [],
      "metadata": {
        "id": "sgkpnj_StDuO"
      },
      "execution_count": null,
      "outputs": []
    },
    {
      "cell_type": "code",
      "source": [],
      "metadata": {
        "id": "YGeZ1XBTtD2O"
      },
      "execution_count": null,
      "outputs": []
    },
    {
      "cell_type": "code",
      "source": [],
      "metadata": {
        "id": "nnDxxmWTtD-x"
      },
      "execution_count": null,
      "outputs": []
    },
    {
      "cell_type": "code",
      "source": [],
      "metadata": {
        "id": "46UCaS2VtEGB"
      },
      "execution_count": null,
      "outputs": []
    },
    {
      "cell_type": "code",
      "source": [
        "From the above data analysis we can say that\n",
        "\n",
        "1 - married\n",
        "2 - single\n",
        "3 - others\n",
        "*More number of credit cards holder are Single.*"
      ],
      "metadata": {
        "id": "9PuFJ24vtEPN"
      },
      "execution_count": null,
      "outputs": []
    },
    {
      "cell_type": "code",
      "source": [],
      "metadata": {
        "id": "sgFJlCtqtEX8"
      },
      "execution_count": null,
      "outputs": []
    },
    {
      "cell_type": "code",
      "source": [],
      "metadata": {
        "id": "EkAZ7_EVtEfR"
      },
      "execution_count": null,
      "outputs": []
    },
    {
      "cell_type": "code",
      "execution_count": null,
      "metadata": {
        "id": "oSXoJfVea3ch"
      },
      "outputs": [],
      "source": [
        "df.head()"
      ]
    },
    {
      "cell_type": "code",
      "execution_count": null,
      "metadata": {
        "id": "l--lseZqMXPf"
      },
      "outputs": [],
      "source": [
        "df.isnull().sum()"
      ]
    },
    {
      "cell_type": "code",
      "execution_count": null,
      "metadata": {
        "id": "ZQgLBHs2N4iL"
      },
      "outputs": [],
      "source": [
        "df.duplicated().sum()"
      ]
    },
    {
      "cell_type": "code",
      "execution_count": null,
      "metadata": {
        "id": "39yXO6hZOJ0v"
      },
      "outputs": [],
      "source": [
        "df.loc[df.duplicated()]"
      ]
    },
    {
      "cell_type": "code",
      "execution_count": null,
      "metadata": {
        "id": "6-TyjueQRL3F"
      },
      "outputs": [],
      "source": [
        "df['LIMIT_BAL'].nunique()"
      ]
    },
    {
      "cell_type": "code",
      "execution_count": null,
      "metadata": {
        "id": "1grCgyHMSfqG"
      },
      "outputs": [],
      "source": [
        "df['LIMIT_BAL'].describe()"
      ]
    },
    {
      "cell_type": "code",
      "execution_count": null,
      "metadata": {
        "id": "SzIEYIsUSk6O"
      },
      "outputs": [],
      "source": [
        "df['LIMIT_BAL'].value_counts()"
      ]
    },
    {
      "cell_type": "code",
      "execution_count": null,
      "metadata": {
        "id": "z3cmsvSBb6Be"
      },
      "outputs": [],
      "source": [
        "df['LIMIT_BAL'] = df['LIMIT_BAL'].astype(int)"
      ]
    },
    {
      "cell_type": "code",
      "execution_count": null,
      "metadata": {
        "id": "TirFsvoOcLNW"
      },
      "outputs": [],
      "source": [
        "df['LIMIT_BAL'].dtypes"
      ]
    },
    {
      "cell_type": "code",
      "execution_count": null,
      "metadata": {
        "id": "vP7BSESxcz6o"
      },
      "outputs": [],
      "source": [
        "sns.boxplot(x = df['LIMIT_BAL'])"
      ]
    },
    {
      "cell_type": "code",
      "execution_count": null,
      "metadata": {
        "id": "7lNpXmeqc-bt"
      },
      "outputs": [],
      "source": [
        "sns.displot(df['LIMIT_BAL'])"
      ]
    },
    {
      "cell_type": "code",
      "execution_count": null,
      "metadata": {
        "id": "okFfLgsjdX6D"
      },
      "outputs": [],
      "source": [
        "df.head(2)"
      ]
    },
    {
      "cell_type": "code",
      "execution_count": null,
      "metadata": {
        "id": "rg_e2a1Kd9Lr"
      },
      "outputs": [],
      "source": [
        "df['ID'].nunique()"
      ]
    },
    {
      "cell_type": "code",
      "execution_count": null,
      "metadata": {
        "id": "SDXsaAEXeHAT"
      },
      "outputs": [],
      "source": [
        "df.drop(columns= ['ID'], inplace = True)"
      ]
    },
    {
      "cell_type": "code",
      "execution_count": null,
      "metadata": {
        "id": "H3YWwPaqfXOo"
      },
      "outputs": [],
      "source": [
        "df.head(2)"
      ]
    },
    {
      "cell_type": "code",
      "execution_count": null,
      "metadata": {
        "id": "Qkzp28bxT2F2"
      },
      "outputs": [],
      "source": [
        "df['SEX'].nunique()"
      ]
    },
    {
      "cell_type": "code",
      "execution_count": null,
      "metadata": {
        "id": "ZFGvwwpagUCb"
      },
      "outputs": [],
      "source": [
        "df['SEX'].value_counts()"
      ]
    },
    {
      "cell_type": "code",
      "execution_count": null,
      "metadata": {
        "id": "fKWgkOYtfkT8"
      },
      "outputs": [],
      "source": [
        "sns.countplot(x = df['SEX'])"
      ]
    },
    {
      "cell_type": "code",
      "execution_count": null,
      "metadata": {
        "id": "CIWcImXuhPsV"
      },
      "outputs": [],
      "source": [
        "plt.pie(df['SEX'].value_counts(), autopct='%1.1f%%', startangle=90)\n",
        "plt.show()"
      ]
    },
    {
      "cell_type": "code",
      "execution_count": null,
      "metadata": {
        "id": "raOzYlgaRe3c"
      },
      "outputs": [],
      "source": [
        "df['EDUCATION'].nunique()"
      ]
    },
    {
      "cell_type": "code",
      "execution_count": null,
      "metadata": {
        "id": "4GnjuHQ8Ri5U"
      },
      "outputs": [],
      "source": [
        "df['EDUCATION'].value_counts()"
      ]
    },
    {
      "cell_type": "code",
      "execution_count": null,
      "metadata": {
        "id": "sZ0x8Plhi78_"
      },
      "outputs": [],
      "source": [
        "df['EDUCATION'].dtypes"
      ]
    },
    {
      "cell_type": "code",
      "execution_count": null,
      "metadata": {
        "id": "h-WjqzCFj5uz"
      },
      "outputs": [],
      "source": [
        "sns.countplot(x='EDUCATION', data=df)"
      ]
    },
    {
      "cell_type": "code",
      "execution_count": null,
      "metadata": {
        "id": "1spAif1AiJt8"
      },
      "outputs": [],
      "source": [
        "sns.distplot(x =df['EDUCATION'].value_counts())"
      ]
    },
    {
      "cell_type": "code",
      "execution_count": null,
      "metadata": {
        "id": "JXwl5PZVRp7_"
      },
      "outputs": [],
      "source": [
        "df.head(2)"
      ]
    },
    {
      "cell_type": "code",
      "source": [
        "df['MARRIAGE'].nunique()"
      ],
      "metadata": {
        "id": "c4rnSHwxCVRB"
      },
      "execution_count": null,
      "outputs": []
    },
    {
      "cell_type": "code",
      "source": [
        "df['MARRIAGE'].value_counts()"
      ],
      "metadata": {
        "id": "a-EsGfdbCa-_"
      },
      "execution_count": null,
      "outputs": []
    },
    {
      "cell_type": "code",
      "source": [
        "sns.countplot(x ='MARRIAGE', data = df)"
      ],
      "metadata": {
        "id": "TzsszGf_Ce_g"
      },
      "execution_count": null,
      "outputs": []
    },
    {
      "cell_type": "code",
      "source": [
        "df.head(2)"
      ],
      "metadata": {
        "id": "Uz17VzwODK9R"
      },
      "execution_count": null,
      "outputs": []
    },
    {
      "cell_type": "code",
      "source": [
        "df['AGE'].nunique()"
      ],
      "metadata": {
        "id": "PQ9elbLPDOHn"
      },
      "execution_count": null,
      "outputs": []
    },
    {
      "cell_type": "code",
      "source": [
        "df['AGE'].value_counts()"
      ],
      "metadata": {
        "id": "PUxAr8VDDU0T"
      },
      "execution_count": null,
      "outputs": []
    },
    {
      "cell_type": "code",
      "source": [
        "df['AGE'] = df['AGE'].astype(int)"
      ],
      "metadata": {
        "id": "RP8j1ZgKDtIg"
      },
      "execution_count": null,
      "outputs": []
    },
    {
      "cell_type": "code",
      "source": [
        "df['AGE'].dtypes"
      ],
      "metadata": {
        "id": "si1kDG6gD2We"
      },
      "execution_count": null,
      "outputs": []
    },
    {
      "cell_type": "code",
      "source": [
        "z = 1"
      ],
      "metadata": {
        "id": "ZjWKKgzRI1i9"
      },
      "execution_count": null,
      "outputs": []
    },
    {
      "cell_type": "code",
      "source": [
        "# Define the bin ranges and labels\n",
        "bin_edges = [0, 30, 50, 100]\n",
        "bin_labels = [\"Younger\", \"Middle\", \"Older\"]\n",
        "\n",
        "# Bin the AGE column using pd.cut()\n",
        "df[\"AGE_bins\"] = pd.cut(df[\"AGE\"], bins=bin_edges, labels=bin_labels)\n",
        "\n",
        "# View the counts of each bin\n",
        "print(df[\"AGE_bins\"].value_counts())"
      ],
      "metadata": {
        "id": "GtKOyrDsKF61"
      },
      "execution_count": null,
      "outputs": []
    },
    {
      "cell_type": "code",
      "source": [
        "sns.countplot(x=df['AGE_bins'])"
      ],
      "metadata": {
        "id": "jnxS7cjFKQE0"
      },
      "execution_count": null,
      "outputs": []
    },
    {
      "cell_type": "code",
      "source": [
        "pd.options.display.max_rows= None\n",
        "pd.options.display.max_columns= None"
      ],
      "metadata": {
        "id": "KcDBsLUKK64W"
      },
      "execution_count": null,
      "outputs": []
    },
    {
      "cell_type": "code",
      "source": [
        "pd.reset_option('display.max_rows')\n",
        "pd.reset_option('display.max_columns')"
      ],
      "metadata": {
        "id": "cLh09tPTLXcv"
      },
      "execution_count": null,
      "outputs": []
    },
    {
      "cell_type": "code",
      "source": [
        "df['PAY_0'].nunique()"
      ],
      "metadata": {
        "id": "yYR9ZemjK4Xx"
      },
      "execution_count": null,
      "outputs": []
    },
    {
      "cell_type": "code",
      "source": [
        "df['PAY_0'].value_counts()"
      ],
      "metadata": {
        "id": "paBb3jhEL1uT"
      },
      "execution_count": null,
      "outputs": []
    },
    {
      "cell_type": "code",
      "source": [
        "df['PAY_2'].nunique()"
      ],
      "metadata": {
        "id": "SlKb2ZaWMVaR"
      },
      "execution_count": null,
      "outputs": []
    },
    {
      "cell_type": "code",
      "source": [
        "df['PAY_2'].value_counts()"
      ],
      "metadata": {
        "id": "yXza-Os5MaU4"
      },
      "execution_count": null,
      "outputs": []
    },
    {
      "cell_type": "code",
      "source": [
        "df['PAY_3'].nunique()"
      ],
      "metadata": {
        "id": "ObgAURPMNvwi"
      },
      "execution_count": null,
      "outputs": []
    },
    {
      "cell_type": "code",
      "source": [
        "df['PAY_2'].value_counts()"
      ],
      "metadata": {
        "id": "re4wggX7N0rE"
      },
      "execution_count": null,
      "outputs": []
    },
    {
      "cell_type": "code",
      "source": [
        "df['PAY_3'].value_counts()"
      ],
      "metadata": {
        "id": "ZgxSvHJkN3lp"
      },
      "execution_count": null,
      "outputs": []
    },
    {
      "cell_type": "code",
      "source": [
        "df['PAY_4'].value_counts()"
      ],
      "metadata": {
        "id": "gIq_eFcTN5ep"
      },
      "execution_count": null,
      "outputs": []
    },
    {
      "cell_type": "code",
      "source": [
        "df['PAY_5'].value_counts()"
      ],
      "metadata": {
        "id": "jcSbmfGVN7My"
      },
      "execution_count": null,
      "outputs": []
    },
    {
      "cell_type": "code",
      "source": [
        "df['PAY_6'].value_counts()"
      ],
      "metadata": {
        "id": "Iw031ufJN_77"
      },
      "execution_count": null,
      "outputs": []
    },
    {
      "cell_type": "code",
      "source": [
        "df['customer1'] = df['BILL_AMT1'] - df['PAY_AMT1']"
      ],
      "metadata": {
        "id": "FvPqBRxZOWOy"
      },
      "execution_count": null,
      "outputs": []
    },
    {
      "cell_type": "code",
      "source": [
        "df['customer1'] = df['customer1'].astype(int)"
      ],
      "metadata": {
        "id": "KJi04n9ceAXV"
      },
      "execution_count": null,
      "outputs": []
    },
    {
      "cell_type": "code",
      "source": [
        "df.head(2)"
      ],
      "metadata": {
        "id": "TmHp5leXPVFc"
      },
      "execution_count": null,
      "outputs": []
    },
    {
      "cell_type": "code",
      "source": [
        "df['customer2'] = df['BILL_AMT2'] - df['PAY_AMT2']"
      ],
      "metadata": {
        "id": "p1A5ed6APZHf"
      },
      "execution_count": null,
      "outputs": []
    },
    {
      "cell_type": "code",
      "source": [
        "df['customer2'] = df['customer2'].astype(int)"
      ],
      "metadata": {
        "id": "FSBHb-JoPfBT"
      },
      "execution_count": null,
      "outputs": []
    },
    {
      "cell_type": "code",
      "source": [
        "df['customer3'] = df['BILL_AMT3'] - df['PAY_AMT3']"
      ],
      "metadata": {
        "id": "GYK0ZaRtPsYw"
      },
      "execution_count": null,
      "outputs": []
    },
    {
      "cell_type": "code",
      "source": [
        "df['customer3'] = df['customer3'].astype(int)"
      ],
      "metadata": {
        "id": "7bLmHlstPyI9"
      },
      "execution_count": null,
      "outputs": []
    },
    {
      "cell_type": "code",
      "source": [
        "df['customer4'] = df['BILL_AMT4'] - df['PAY_AMT4']"
      ],
      "metadata": {
        "id": "0O2IE_ZeP0k7"
      },
      "execution_count": null,
      "outputs": []
    },
    {
      "cell_type": "code",
      "source": [
        "df['customer4'] = df['customer4'].astype(int)"
      ],
      "metadata": {
        "id": "DrKH1ik-P5Mm"
      },
      "execution_count": null,
      "outputs": []
    },
    {
      "cell_type": "code",
      "source": [
        "df['customer5'] = df['BILL_AMT5'] - df['PAY_AMT5']"
      ],
      "metadata": {
        "id": "tU58IRm5P7cO"
      },
      "execution_count": null,
      "outputs": []
    },
    {
      "cell_type": "code",
      "source": [
        "df['customer5'] = df['customer5'].astype(int)"
      ],
      "metadata": {
        "id": "d6fXJMK8QBop"
      },
      "execution_count": null,
      "outputs": []
    },
    {
      "cell_type": "code",
      "source": [
        "df['customer6'] = df['BILL_AMT6'] - df['PAY_AMT6']"
      ],
      "metadata": {
        "id": "HXt-bdTIQEJD"
      },
      "execution_count": null,
      "outputs": []
    },
    {
      "cell_type": "code",
      "source": [
        "df['customer6'] = df['customer6'].astype(int)"
      ],
      "metadata": {
        "id": "ruQN3VPSQJE_"
      },
      "execution_count": null,
      "outputs": []
    },
    {
      "cell_type": "code",
      "source": [
        "df.head(2)"
      ],
      "metadata": {
        "id": "fZWvmsu7QMmk"
      },
      "execution_count": null,
      "outputs": []
    },
    {
      "cell_type": "code",
      "source": [
        "df['default payment next month'].nunique()"
      ],
      "metadata": {
        "id": "h1KDxMvQS_Nj"
      },
      "execution_count": null,
      "outputs": []
    },
    {
      "cell_type": "code",
      "source": [
        "df['default payment next month'].value_counts()"
      ],
      "metadata": {
        "id": "mrTLmyQDTEUY"
      },
      "execution_count": null,
      "outputs": []
    },
    {
      "cell_type": "code",
      "source": [
        "sns.countplot(x = df['default payment next month'])"
      ],
      "metadata": {
        "id": "8QpgqyYETId5"
      },
      "execution_count": null,
      "outputs": []
    },
    {
      "cell_type": "code",
      "source": [
        "df['customer1'].describe()"
      ],
      "metadata": {
        "id": "wYZtZuYfRoY4"
      },
      "execution_count": null,
      "outputs": []
    },
    {
      "cell_type": "code",
      "source": [
        "sns.displot(df['customer1'])"
      ],
      "metadata": {
        "id": "dEo12EfzT1Ew"
      },
      "execution_count": null,
      "outputs": []
    },
    {
      "cell_type": "code",
      "source": [
        "sns.boxplot(x = df['customer1'])"
      ],
      "metadata": {
        "id": "1Dq1aeDpT_kp"
      },
      "execution_count": null,
      "outputs": []
    },
    {
      "cell_type": "code",
      "source": [
        "df['customer2'].describe().round()"
      ],
      "metadata": {
        "id": "N76hkTveSrbv"
      },
      "execution_count": null,
      "outputs": []
    },
    {
      "cell_type": "code",
      "source": [
        "sns.displot(df['customer2'])"
      ],
      "metadata": {
        "id": "-Ue1ZZiQUIeV"
      },
      "execution_count": null,
      "outputs": []
    },
    {
      "cell_type": "code",
      "source": [
        "sns.boxplot(x = df['customer2'])"
      ],
      "metadata": {
        "id": "b_7NY25AUiOu"
      },
      "execution_count": null,
      "outputs": []
    },
    {
      "cell_type": "code",
      "source": [
        "df['customer3'].describe().round()"
      ],
      "metadata": {
        "id": "BYM-cmsySzDA"
      },
      "execution_count": null,
      "outputs": []
    },
    {
      "cell_type": "code",
      "source": [
        "sns.displot(df['customer3'])"
      ],
      "metadata": {
        "id": "6hpIPQR3ULsZ"
      },
      "execution_count": null,
      "outputs": []
    },
    {
      "cell_type": "code",
      "source": [
        "sns.boxplot(x = df['customer3'])"
      ],
      "metadata": {
        "id": "cnEVRvm5UkaQ"
      },
      "execution_count": null,
      "outputs": []
    },
    {
      "cell_type": "code",
      "source": [
        "df['customer4'].describe().round()"
      ],
      "metadata": {
        "id": "bipKMg8sS0o9"
      },
      "execution_count": null,
      "outputs": []
    },
    {
      "cell_type": "code",
      "source": [
        "sns.displot(df['customer4'])"
      ],
      "metadata": {
        "id": "985diuNwUO5E"
      },
      "execution_count": null,
      "outputs": []
    },
    {
      "cell_type": "code",
      "source": [
        "sns.boxplot(x = df['customer4'])"
      ],
      "metadata": {
        "id": "FB_aybVgUnhM"
      },
      "execution_count": null,
      "outputs": []
    },
    {
      "cell_type": "code",
      "source": [
        "df['customer5'].describe().round()"
      ],
      "metadata": {
        "id": "wZOvyy3ZS2qu"
      },
      "execution_count": null,
      "outputs": []
    },
    {
      "cell_type": "code",
      "source": [
        "sns.displot(df['customer5'])"
      ],
      "metadata": {
        "id": "4foys1sAUbPe"
      },
      "execution_count": null,
      "outputs": []
    },
    {
      "cell_type": "code",
      "source": [
        "sns.boxplot(x = df['customer5'])"
      ],
      "metadata": {
        "id": "eE9YtBhJUp38"
      },
      "execution_count": null,
      "outputs": []
    },
    {
      "cell_type": "code",
      "source": [
        "df['customer6'].describe().round()"
      ],
      "metadata": {
        "id": "7IxrIRJdS4IX"
      },
      "execution_count": null,
      "outputs": []
    },
    {
      "cell_type": "code",
      "source": [
        "sns.displot(df['customer6'])"
      ],
      "metadata": {
        "id": "mqnUACpaUd7T"
      },
      "execution_count": null,
      "outputs": []
    },
    {
      "cell_type": "code",
      "source": [
        "sns.boxplot(x = df['customer6'])"
      ],
      "metadata": {
        "id": "bhVHTwvoUsIC"
      },
      "execution_count": null,
      "outputs": []
    },
    {
      "cell_type": "code",
      "source": [
        "df.head(2)"
      ],
      "metadata": {
        "id": "s9Iw4kcOKf9v"
      },
      "execution_count": null,
      "outputs": []
    },
    {
      "cell_type": "code",
      "source": [
        "df[['PAY_2','BILL_AMT2','PAY_AMT2','customer2','default payment next month']].head()"
      ],
      "metadata": {
        "id": "nn5LjNs9bfHL"
      },
      "execution_count": null,
      "outputs": []
    },
    {
      "cell_type": "code",
      "source": [
        "corr_matrix = df.corr()\n",
        "sns.heatmap(corr_matrix, cmap='coolwarm', annot=True)\n",
        "plt.show()"
      ],
      "metadata": {
        "id": "KnVhasrVdxHr"
      },
      "execution_count": null,
      "outputs": []
    },
    {
      "cell_type": "code",
      "source": [
        "dummies = pd.get_dummies(df['AGE_bins'], prefix = 'AGE_bins')\n",
        "dummies.drop(columns =[dummies.columns[0]], inplace = True)\n",
        "df = pd.concat([df,dummies], axis =1)"
      ],
      "metadata": {
        "id": "SA2zDPHXgbIT"
      },
      "execution_count": null,
      "outputs": []
    },
    {
      "cell_type": "code",
      "source": [
        "sns.scatterplot(x = df['default payment next month'],y = df['customer2'])"
      ],
      "metadata": {
        "id": "yz6feu2WelDq"
      },
      "execution_count": null,
      "outputs": []
    },
    {
      "cell_type": "code",
      "source": [
        "sns.scatterplot(x = df['default payment next month'],y = df['customer1'])"
      ],
      "metadata": {
        "id": "2USVf8_viE1r"
      },
      "execution_count": null,
      "outputs": []
    },
    {
      "cell_type": "code",
      "source": [
        "sns.scatterplot(x = df['default payment next month'],y = df['customer3'])"
      ],
      "metadata": {
        "id": "ceUUyiDciG9h"
      },
      "execution_count": null,
      "outputs": []
    },
    {
      "cell_type": "code",
      "source": [
        "sns.scatterplot(x = df['default payment next month'],y = df['customer4'])"
      ],
      "metadata": {
        "id": "r84m7h-_iJdk"
      },
      "execution_count": null,
      "outputs": []
    },
    {
      "cell_type": "code",
      "source": [
        "sns.scatterplot(x = df['default payment next month'],y = df['customer5'])"
      ],
      "metadata": {
        "id": "QDyQpJh2iLwc"
      },
      "execution_count": null,
      "outputs": []
    },
    {
      "cell_type": "code",
      "source": [
        "sns.scatterplot(x = df['default payment next month'],y = df['customer6'])"
      ],
      "metadata": {
        "id": "LFNqPWZSiM5K"
      },
      "execution_count": null,
      "outputs": []
    },
    {
      "cell_type": "code",
      "source": [
        "df.head(2)"
      ],
      "metadata": {
        "id": "rmblcejYh-K1"
      },
      "execution_count": null,
      "outputs": []
    },
    {
      "cell_type": "code",
      "source": [
        "df['AGE_bins_Middle'].value_counts()"
      ],
      "metadata": {
        "id": "Yx9jhmIvi9dm"
      },
      "execution_count": null,
      "outputs": []
    },
    {
      "cell_type": "code",
      "source": [
        "sns.countplot(x ='AGE_bins', hue = df['default payment next month'], data = df)"
      ],
      "metadata": {
        "id": "ELO9EiqrjOet"
      },
      "execution_count": null,
      "outputs": []
    },
    {
      "cell_type": "code",
      "source": [
        "df['customer1'].describe()"
      ],
      "metadata": {
        "id": "Adq5JEyijd7t"
      },
      "execution_count": null,
      "outputs": []
    },
    {
      "cell_type": "code",
      "source": [
        "df.shape"
      ],
      "metadata": {
        "id": "dEj_0Wp0kKnW"
      },
      "execution_count": null,
      "outputs": []
    },
    {
      "cell_type": "code",
      "source": [
        "df['customer1'].nsmallest(8)"
      ],
      "metadata": {
        "id": "IzgMn1VBlxec"
      },
      "execution_count": null,
      "outputs": []
    },
    {
      "cell_type": "code",
      "source": [
        "df.head(2)"
      ],
      "metadata": {
        "id": "rYJbsQCnmrGE"
      },
      "execution_count": null,
      "outputs": []
    },
    {
      "cell_type": "code",
      "source": [
        "df['SEX'].value_counts()"
      ],
      "metadata": {
        "id": "1Z7tKyZAmwko"
      },
      "execution_count": null,
      "outputs": []
    },
    {
      "cell_type": "code",
      "source": [
        "sns.countplot(x ='SEX', hue=df['default payment next month'], data= df)"
      ],
      "metadata": {
        "id": "tWh6bmC8m33L"
      },
      "execution_count": null,
      "outputs": []
    },
    {
      "cell_type": "code",
      "source": [
        "sns.countplot(x ='MARRIAGE', hue=df['default payment next month'], data= df)"
      ],
      "metadata": {
        "id": "pMw9WjnBnTEK"
      },
      "execution_count": null,
      "outputs": []
    },
    {
      "cell_type": "code",
      "source": [
        "df['MARRIAGE'].value_counts()"
      ],
      "metadata": {
        "id": "aDFAvDT2Hzrx"
      },
      "execution_count": null,
      "outputs": []
    },
    {
      "cell_type": "code",
      "source": [
        "sns.countplot(x ='EDUCATION', hue=df['default payment next month'], data= df)"
      ],
      "metadata": {
        "id": "QqenXEvAnXX0"
      },
      "execution_count": null,
      "outputs": []
    },
    {
      "cell_type": "code",
      "source": [
        "sns.scatterplot(x = df['LIMIT_BAL'], y = df['default payment next month'])"
      ],
      "metadata": {
        "id": "XxZbLWLBIHU5"
      },
      "execution_count": null,
      "outputs": []
    },
    {
      "cell_type": "code",
      "source": [
        "df['LIMIT_BAL'].nunique()"
      ],
      "metadata": {
        "id": "1MwPaMugIquP"
      },
      "execution_count": null,
      "outputs": []
    },
    {
      "cell_type": "code",
      "source": [
        "# Calculate the correlation matrix\n",
        "corr_matrix = df.corr()\n",
        "\n",
        "# Plot the heatmap\n",
        "sns.heatmap(corr_matrix, cmap='coolwarm', annot=True)\n",
        "plt.show()"
      ],
      "metadata": {
        "id": "0cqK4FqfI_Un"
      },
      "execution_count": null,
      "outputs": []
    },
    {
      "cell_type": "code",
      "source": [
        "df[['PAY_0','PAY_2','PAY_3','PAY_4','PAY_5','PAY_6']]"
      ],
      "metadata": {
        "id": "RkrGSe7zJbcr"
      },
      "execution_count": null,
      "outputs": []
    },
    {
      "cell_type": "markdown",
      "source": [
        "Delete after this"
      ],
      "metadata": {
        "id": "yPiNWLsjSsKE"
      }
    },
    {
      "cell_type": "code",
      "source": [
        "df.info()"
      ],
      "metadata": {
        "id": "54PVOYE4Q2e0"
      },
      "execution_count": null,
      "outputs": []
    },
    {
      "cell_type": "markdown",
      "source": [
        "Feature Selection"
      ],
      "metadata": {
        "id": "5D0yGvugmhwK"
      }
    },
    {
      "cell_type": "code",
      "source": [
        "999 = agdsg"
      ],
      "metadata": {
        "id": "JcyocoUAfbjm"
      },
      "execution_count": null,
      "outputs": []
    },
    {
      "cell_type": "code",
      "source": [
        "# create dummy variables for all categorical columns except one\n",
        "categorical_columns = ['SEX', 'EDUCATION', 'MARRIAGE','default payment next month', 'PAY_0', 'PAY_2', 'PAY_3', 'PAY_4', 'PAY_5', 'PAY_6']\n",
        "df = pd.get_dummies(df, columns=categorical_columns, drop_first=True)\n"
      ],
      "metadata": {
        "id": "uNdjiJOKSLyf"
      },
      "execution_count": null,
      "outputs": []
    },
    {
      "cell_type": "code",
      "source": [
        "df.info()"
      ],
      "metadata": {
        "id": "9eTXRaFCmg4X"
      },
      "execution_count": null,
      "outputs": []
    },
    {
      "cell_type": "code",
      "source": [
        "X = df.iloc[:,15:92].values\n",
        "X = np.delete(X, 33, axis=1)\n",
        "y = df.iloc[:,33].values"
      ],
      "metadata": {
        "id": "rRDXKbv4ULvl"
      },
      "execution_count": null,
      "outputs": []
    },
    {
      "cell_type": "code",
      "source": [
        "X"
      ],
      "metadata": {
        "id": "W0H4jcGngmQz"
      },
      "execution_count": null,
      "outputs": []
    },
    {
      "cell_type": "code",
      "source": [
        "from sklearn.model_selection import train_test_split\n",
        "X_train,X_test,y_train,y_test = train_test_split(X,y, test_size = 0.2, random_state= 3)\n",
        "X_train_fs,X_test_fs,y_train_fs,y_test_fs = train_test_split(X,y, test_size = 0.2, random_state= 3)\n",
        "X_train_pca,X_test_pca,y_train_pca,y_test_pca = train_test_split(X,y, test_size = 0.2, random_state= 3)"
      ],
      "metadata": {
        "id": "0g4dHviKZSVg"
      },
      "execution_count": null,
      "outputs": []
    },
    {
      "cell_type": "code",
      "source": [
        "X.shape"
      ],
      "metadata": {
        "id": "5YLWVpdAVD51"
      },
      "execution_count": null,
      "outputs": []
    },
    {
      "cell_type": "code",
      "source": [
        "y.shape"
      ],
      "metadata": {
        "id": "BkhbLpx-VGY0"
      },
      "execution_count": null,
      "outputs": []
    },
    {
      "cell_type": "code",
      "source": [
        "from sklearn.preprocessing import StandardScaler\n",
        "scaler = StandardScaler()\n",
        "X_train = scaler.fit_transform(X_train)"
      ],
      "metadata": {
        "id": "EbLCQv3vaX_i"
      },
      "execution_count": null,
      "outputs": []
    },
    {
      "cell_type": "code",
      "source": [
        "from sklearn.preprocessing import StandardScaler\n",
        "scaler = StandardScaler()\n",
        "X_train_fs = scaler.fit_transform(X_train_fs)"
      ],
      "metadata": {
        "id": "E47pUVhdaXNP"
      },
      "execution_count": null,
      "outputs": []
    },
    {
      "cell_type": "code",
      "source": [
        "from sklearn.preprocessing import StandardScaler\n",
        "scaler = StandardScaler()\n",
        "X_train_pca = scaler.fit_transform(X_train_pca)"
      ],
      "metadata": {
        "id": "NM35CpcpY3Mh"
      },
      "execution_count": null,
      "outputs": []
    },
    {
      "cell_type": "code",
      "source": [
        "from sklearn.decomposition import PCA\n",
        "\n",
        "# Create a PCA object with 2 components\n",
        "pca = PCA(n_components=2)\n",
        "\n",
        "# Fit the PCA model to the data and transform the data\n",
        "X_pca = pca.fit_transform(X)"
      ],
      "metadata": {
        "id": "qEqDG7ZVVIkm"
      },
      "execution_count": null,
      "outputs": []
    },
    {
      "cell_type": "code",
      "source": [
        "plt.figure(figsize=(25,10))\n",
        "# Calculate the correlation matrix\n",
        "corr_matrix = X.corr()\n",
        "\n",
        "# Plot the heatmap\n",
        "sns.heatmap(corr_matrix, cmap='coolwarm', annot=True)\n",
        "plt.show()"
      ],
      "metadata": {
        "id": "i9uYQxIwRRTk"
      },
      "execution_count": null,
      "outputs": []
    },
    {
      "cell_type": "code",
      "source": [
        "from sklearn.linear_model import LogisticRegression\n",
        "from sklearn.metrics import accuracy_score"
      ],
      "metadata": {
        "id": "q4Zus0uub_rF"
      },
      "execution_count": null,
      "outputs": []
    },
    {
      "cell_type": "code",
      "source": [
        "print(type(y_train))\n",
        "print(y_train.shape)"
      ],
      "metadata": {
        "id": "XZS_Lo03dL7R"
      },
      "execution_count": null,
      "outputs": []
    },
    {
      "cell_type": "code",
      "source": [
        "import numpy as np\n",
        "\n",
        "unique_labels, label_counts = np.unique(y_train, return_counts=True)\n",
        "print(unique_labels, label_counts)"
      ],
      "metadata": {
        "id": "gitOwxQMd-ZK"
      },
      "execution_count": null,
      "outputs": []
    },
    {
      "cell_type": "code",
      "source": [
        "model = LogisticRegression()\n",
        "model.fit(X_train, y_train)"
      ],
      "metadata": {
        "id": "19HxaufUcQZK"
      },
      "execution_count": null,
      "outputs": []
    },
    {
      "cell_type": "code",
      "source": [
        "y_predict = model.predict(X_test)\n",
        "for_raw_data = accuracy_score(y_predict,y_test)"
      ],
      "metadata": {
        "id": "HjwDRQCWccot"
      },
      "execution_count": null,
      "outputs": []
    },
    {
      "cell_type": "code",
      "source": [
        "for_raw_data"
      ],
      "metadata": {
        "id": "jyYawM2hiBHk"
      },
      "execution_count": null,
      "outputs": []
    },
    {
      "cell_type": "code",
      "source": [
        "model = LogisticRegression()\n",
        "model.fit(X_train_pca, y_train_pca)"
      ],
      "metadata": {
        "id": "bx_fQZhwiNov"
      },
      "execution_count": null,
      "outputs": []
    },
    {
      "cell_type": "code",
      "source": [
        "y_predict = model.predict(X_test_pca)\n",
        "for_pca = accuracy_score(y_predict,y_test_pca)"
      ],
      "metadata": {
        "id": "qaKA_YtYiLKQ"
      },
      "execution_count": null,
      "outputs": []
    },
    {
      "cell_type": "code",
      "source": [
        "for_pca"
      ],
      "metadata": {
        "id": "xAMTgwTNiVg8"
      },
      "execution_count": null,
      "outputs": []
    },
    {
      "cell_type": "code",
      "source": [
        "from sklearn.ensemble import RandomForestClassifier"
      ],
      "metadata": {
        "id": "LjhNzjBqnbOP"
      },
      "execution_count": null,
      "outputs": []
    },
    {
      "cell_type": "code",
      "source": [
        "rf = RandomForestClassifier()\n",
        "# Define the hyperparameter grid to search over\n",
        "param_grid = {'n_estimators': [10, 50, 100],\n",
        "              'max_depth': [None, 5, 10],\n",
        "              'min_samples_split': [2, 5, 10]}"
      ],
      "metadata": {
        "id": "jsVCTDwDnQp5"
      },
      "execution_count": null,
      "outputs": []
    },
    {
      "cell_type": "code",
      "source": [
        "from sklearn.model_selection import GridSearchCV"
      ],
      "metadata": {
        "id": "O15X3Uhbnncl"
      },
      "execution_count": null,
      "outputs": []
    },
    {
      "cell_type": "code",
      "source": [
        "# Use grid search to find the best hyperparameters\n",
        "grid_search = GridSearchCV(estimator=rf, param_grid=param_grid, cv=5)\n",
        "grid_search.fit(X_train, y_train)\n",
        "\n",
        "# Train the random forest classifier on the training set using the best hyperparameters\n",
        "best_rf = RandomForestClassifier(**grid_search.best_params_)\n",
        "best_rf.fit(X_train, y_train)\n",
        "\n",
        "# Evaluate the performance of the classifier on the test set\n",
        "test_accuracy = np.mean(best_rf.predict(X_test) == y_test)\n",
        "print(f'Test accuracy: {test_accuracy}')"
      ],
      "metadata": {
        "id": "EMprHG2TnrML"
      },
      "execution_count": null,
      "outputs": []
    },
    {
      "cell_type": "code",
      "source": [
        "# Use grid search to find the best hyperparameters\n",
        "grid_search = GridSearchCV(estimator=rf, param_grid=param_grid, cv=5)\n",
        "grid_search.fit(X_train_pca, y_train_pca)\n",
        "\n",
        "# Train the random forest classifier on the training set using the best hyperparameters\n",
        "best_rf = RandomForestClassifier(**grid_search.best_params_)\n",
        "best_rf.fit(X_train_pca, y_train_pca)\n",
        "\n",
        "# Evaluate the performance of the classifier on the test set\n",
        "test_accuracy = np.mean(best_rf.predict(X_test_pca) == y_test_pca)\n",
        "print(f'Test accuracy: {test_accuracy}')"
      ],
      "metadata": {
        "id": "nupPIqennzv4"
      },
      "execution_count": null,
      "outputs": []
    },
    {
      "cell_type": "code",
      "source": [
        "import xgboost as xgb"
      ],
      "metadata": {
        "id": "6w2qcHmOpKOp"
      },
      "execution_count": null,
      "outputs": []
    },
    {
      "cell_type": "code",
      "source": [
        "# Create an XGBoost classifier object\n",
        "xgb_model = xgb.XGBClassifier()\n",
        "\n",
        "# Define the hyperparameter grid to search over\n",
        "param_grid = {'max_depth': [3, 5, 7],\n",
        "              'learning_rate': [0.01, 0.1, 1],\n",
        "              'n_estimators': [10, 50, 100],\n",
        "              'gamma': [0, 0.1, 1]}\n",
        "\n",
        "# Use grid search to find the best hyperparameters\n",
        "grid_search = GridSearchCV(estimator=xgb_model, param_grid=param_grid, cv=5)\n",
        "grid_search.fit(X_train, y_train)\n",
        "\n",
        "# Train the XGBoost classifier on the training set using the best hyperparameters\n",
        "best_xgb_model = xgb.XGBClassifier(**grid_search.best_params_)\n",
        "best_xgb_model.fit(X_train, y_train)\n",
        "\n",
        "# Evaluate the performance of the classifier on the test set\n",
        "test_accuracy = np.mean(best_xgb_model.predict(X_test) == y_test)\n",
        "print(f'Test accuracy: {test_accuracy}')"
      ],
      "metadata": {
        "id": "MGfgkw0toSFF"
      },
      "execution_count": null,
      "outputs": []
    }
  ],
  "metadata": {
    "colab": {
      "provenance": [],
      "collapsed_sections": [
        "I_nzSVovUmNn",
        "R2aGLqKhU08W",
        "7bWAavENWtmm",
        "nO7ypSyfY49V",
        "Wnfo9DuZY-e1",
        "LZGEXUFub7yL",
        "I5KWUQVpjvho",
        "jQi5GIzsq_P1",
        "XxdaZuX0rmUQ",
        "spKygmQ2sIpR",
        "laa_xbPqsaCv",
        "DX2yYLDvs4wo",
        "SnjOC9QZUAwK",
        "NDYzoJJsUMJt",
        "uZg3fsA6U8at",
        "wF2Ja_tiVvc3",
        "6DUvPKhhqRcA",
        "7ywLx3X4tIbA",
        "DvMym7BkwD6E",
        "NowmHhnTwVNG",
        "alz1sRnF1a5E",
        "uBkYyYeLc5Vr",
        "Sm5YTk-edvGP",
        "RFvKcdvReWZr",
        "mDkdPAbEl6uX",
        "fJtvIQoL0d8N",
        "tCKJ1Ez806BC",
        "ZcRVCj9lDH2u"
      ],
      "authorship_tag": "ABX9TyMT2t22zTtXX6uwwXZF5xTp",
      "include_colab_link": true
    },
    "kernelspec": {
      "display_name": "Python 3",
      "name": "python3"
    },
    "language_info": {
      "name": "python"
    }
  },
  "nbformat": 4,
  "nbformat_minor": 0
}